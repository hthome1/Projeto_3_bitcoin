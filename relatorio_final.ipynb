{
 "cells": [
  {
   "cell_type": "markdown",
   "metadata": {},
   "source": [
    "# Bitcoin Price Prediction"
   ]
  },
  {
   "cell_type": "markdown",
   "metadata": {},
   "source": [
    "##### Feito por: Henrique, Omar, Nevton"
   ]
  },
  {
   "cell_type": "markdown",
   "metadata": {},
   "source": [
    "### Introdução\n",
    "#### As criptomoedas estão cada vez mais ganhando espaço no mercado financeiro. Muitos dizem que as criptomoedas não passam de uma bolha especulativa, porém mesmo após uma forte queda a partir de 2018, o preço desses ativos em geral se mantem em um patamar relevante. Devido a alta volatilidade achamos que seria interessante fazer uma análise preditiva sobre o preço dos ativos uma vez que com grande volartilidade existem maiores oportunidades para se ganhar dinheiro. Escolhemos fazer apenas com Bitcoin, pois é a primeira, maior e principal criptomoeda.  \n",
    "#### Dessa forma nosso objetivo era criar um modelo para tentar prever o preço do bitcoin, para a partir disso tomar decisões de investimento. Para fazer isso, primeiramente coletamos diversas variáveis sobre a rede do Bitcoin, nos ultimos 5 anos. Essas informações podem ser achadas no link: https://www.blockchain.com/charts. E relacionamos essas variáveis com nossa variável chave que era market_price2 (preço em dólares)\n",
    "#### Nossa pergunta motriz foi: Qual vai ser o preço do Bitcoin No Futuro?"
   ]
  },
  {
   "cell_type": "markdown",
   "metadata": {},
   "source": [
    "#### Para responder essa pergunta fizemos um regressão multipla e também usamos um método chamado Decision Tree Regressor"
   ]
  },
  {
   "cell_type": "code",
   "execution_count": null,
   "metadata": {},
   "outputs": [],
   "source": [
    "import numpy as np\n",
    "import pandas as pd\n",
    "import plotly.offline as py\n",
    "import plotly.graph_objs as go\n",
    "import plotly.figure_factory as ff\n",
    "import statsmodels.api as sm\n",
    "import matplotlib.pyplot as plt\n",
    "from sklearn import tree\n",
    "from sklearn.tree import DecisionTreeRegressor\n",
    "from sklearn.model_selection import train_test_split\n",
    "from sklearn.metrics import r2_score\n",
    "from sklearn.ensemble import RandomForestRegressor"
   ]
  },
  {
   "cell_type": "code",
   "execution_count": null,
   "metadata": {},
   "outputs": [],
   "source": [
    "dfs = pd.read_excel('DataFrame_bitcoin.xlsx')\n",
    "data = pd.read_csv('difficulty.csv')"
   ]
  },
  {
   "cell_type": "markdown",
   "metadata": {},
   "source": [
    "### Gráfico de como o preço do bitcoin se comportou de 2014 até agora"
   ]
  },
  {
   "cell_type": "code",
   "execution_count": null,
   "metadata": {},
   "outputs": [],
   "source": [
    "plt.plot(dfs['market_price_2'])"
   ]
  },
  {
   "cell_type": "markdown",
   "metadata": {},
   "source": [
    "### Análise exploratória\n",
    "Primeiramente foi feito uma análise exploratória dos dados. Dados que estamos cruzando variáveis quantitativas o melhor método para vizualizarmos é com um scatter plot. Por termos um número grande de variáveis, primeiro fizemos uma tabela de correlação e analisamos, através do scatter plot, apenas as variáveis que mais se correlacionavam com nossa variável de interrese: 'Market_price_2'"
   ]
  },
  {
   "cell_type": "code",
   "execution_count": null,
   "metadata": {},
   "outputs": [],
   "source": [
    "tabela_corr = dfs.corr()\n",
    "tabela_corr"
   ]
  },
  {
   "cell_type": "markdown",
   "metadata": {},
   "source": [
    "### Como podemos ver as variáveis que apresentam a correlação mais forte com o market price (preço) são:  \n",
    "-miners_revenue  \n",
    "-Dificuldade  \n",
    "-Hash_rate<br>\n",
    "-Market_Cap<br>\n",
    "-Volume Estimado Da Transacao<br>\n",
    "#### Agora vamos analisar mais a fundo essas relações"
   ]
  },
  {
   "cell_type": "code",
   "execution_count": null,
   "metadata": {},
   "outputs": [],
   "source": [
    "plt.scatter(dfs[\"market_price_2\"],dfs[\"miners_revenue\"])\n",
    "plt.title('Preço x remuneração dos mineradores')\n",
    "plt.xlabel('Preço')\n",
    "plt.ylabel('remuneração dos mineradores')"
   ]
  },
  {
   "cell_type": "markdown",
   "metadata": {},
   "source": [
    "Notasse uma forte correlação positiva"
   ]
  },
  {
   "cell_type": "code",
   "execution_count": null,
   "metadata": {},
   "outputs": [],
   "source": [
    "plt.scatter(dfs[\"market_price_2\"],dfs[\"difficulty\"])\n",
    "plt.title('Preço x Dificulade')\n",
    "plt.xlabel('Preço')\n",
    "plt.ylabel('Dificuladade')"
   ]
  },
  {
   "cell_type": "markdown",
   "metadata": {},
   "source": [
    "Podemos ver que quanto mais difícil é para minerar um bloco maior o preço"
   ]
  },
  {
   "cell_type": "code",
   "execution_count": null,
   "metadata": {},
   "outputs": [],
   "source": [
    "plt.scatter(dfs[\"market_price_2\"],dfs[\"hash_rate\"])\n",
    "plt.title('Preço x Hash Rate')\n",
    "plt.xlabel('Preço')\n",
    "plt.ylabel('Hash Rate')"
   ]
  },
  {
   "cell_type": "markdown",
   "metadata": {},
   "source": [
    "A relação é muito parecida com a descrita a cima. Ao fazer uma análise mais profunda sobre os conceitos intrincecos dessas duas variáveis, percebe-se que no fundo o hash rate e a dificuldade são quase a mesma coisa.  \n",
    "Pode-se encontrar mais informações sobre esses conceitos em : https://2miners.com/blog/mining-difficulty-and-network-hashrate-explained/"
   ]
  },
  {
   "cell_type": "code",
   "execution_count": null,
   "metadata": {},
   "outputs": [],
   "source": [
    "plt.scatter(dfs[\"market_price_2\"],dfs[\"market_cap\"])\n",
    "plt.title('Preço x Market_Cap')\n",
    "plt.xlabel('Preço')\n",
    "plt.ylabel('Market_Cap')"
   ]
  },
  {
   "cell_type": "markdown",
   "metadata": {},
   "source": [
    "O market cap se mostrou muito relacionado com o preço, porém ao analisar o que a variável significa, concluimos que o market cap é um desdobramento do preço. Formula para se achar o market cap = Preço * quantidade de moedas em circulação. Por isso vamos excluir essa variável para fazer as regressões"
   ]
  },
  {
   "cell_type": "code",
   "execution_count": null,
   "metadata": {},
   "outputs": [],
   "source": [
    "plt.scatter(dfs[\"market_price_2\"],dfs[\"estimated_transaction_volume_usd\"])\n",
    "plt.title('Preço x Volumne Estimado Da Transacao')\n",
    "plt.xlabel('Preço')\n",
    "plt.ylabel('Volumne Estimado Da Transacao')"
   ]
  },
  {
   "cell_type": "markdown",
   "metadata": {},
   "source": [
    "Podemos observar uma correlacão forte positiva, ou seja, quanto maior o volume de transações maior o preço. Isso nos indica que se a rede esta mais ativa, mais pessoas querendo transacionar, o preco tende a aumentar"
   ]
  },
  {
   "cell_type": "code",
   "execution_count": null,
   "metadata": {},
   "outputs": [],
   "source": [
    "df_treinamento = dfs.iloc[550:991]\n",
    "df_teste = dfs.iloc[991:]"
   ]
  },
  {
   "cell_type": "code",
   "execution_count": null,
   "metadata": {},
   "outputs": [],
   "source": [
    "Y_treinamento = df_treinamento['market_price_2']\n",
    "X_treinamento = df_treinamento[[\n",
    " 'avg_block_size',\n",
    " 'cost_per_transaction',\n",
    " 'difficulty',\n",
    " 'estimated_transaction_volume_usd',\n",
    " 'hash_rate',\n",
    " 'miners_revenue',\n",
    " 'n_transactions',\n",
    " 'transaction_fees'\n",
    "]]\n",
    "Y_teste = df_teste['market_price_2']\n",
    "X_teste = df_teste[[\n",
    " 'avg_block_size',\n",
    " 'cost_per_transaction',\n",
    " 'difficulty',\n",
    " 'estimated_transaction_volume_usd',\n",
    " 'hash_rate',\n",
    " 'miners_revenue',\n",
    " 'n_transactions',\n",
    " 'transaction_fees'\n",
    "]]"
   ]
  },
  {
   "cell_type": "markdown",
   "metadata": {},
   "source": [
    "## Fazendo a Regressão linear multipla"
   ]
  },
  {
   "cell_type": "markdown",
   "metadata": {},
   "source": [
    "A regressão linear multipla é um conjunto de técnicas estatísticas a fim de construir modelos que possam descrever de maneira razoável relações entre várias variáveis explicativas de um determinado processo. Chamamos de Regressão linear multipla por usarmos varias variaveis."
   ]
  },
  {
   "cell_type": "markdown",
   "metadata": {},
   "source": [
    "Para fazer a regressão dividimos o dataframe em 2, sendo o primeiro para treinar o modelo e o segundo para verificar a acurrácia desse"
   ]
  },
  {
   "cell_type": "code",
   "execution_count": null,
   "metadata": {},
   "outputs": [],
   "source": [
    "#Funcao Que Calcula A Regressao Linear Multipla\n",
    "def regress(X,Y):\n",
    "    X_cp = sm.add_constant(X)\n",
    "    model = sm.OLS(Y,X_cp)\n",
    "    results = model.fit()\n",
    "    return results"
   ]
  },
  {
   "cell_type": "code",
   "execution_count": null,
   "metadata": {},
   "outputs": [],
   "source": [
    "#Funcao Que Calcula O Valor RMS\n",
    "def rms(y,y_pred):\n",
    "    return (sum((y-y_pred)**2)*1/len(y))**0.5"
   ]
  },
  {
   "cell_type": "code",
   "execution_count": null,
   "metadata": {},
   "outputs": [],
   "source": [
    "regress(X_treinamento,Y_treinamento).summary()"
   ]
  },
  {
   "cell_type": "markdown",
   "metadata": {},
   "source": [
    "#### Em nossa primeira regressão obtivemos um r-squared de 93.3%, ou seja, nosso modelo se ajusta aos pontos em 93.3% dos casos."
   ]
  },
  {
   "cell_type": "markdown",
   "metadata": {},
   "source": [
    "#### Neste primeiro modelo, no entanto estamos apenas usando os dados de um dia atrás, o que torna nosso modelo muito simples e falho. Dessa forma vamos varias a janela temporal usada para verificar qual a melhor janela de tempo para se usar"
   ]
  },
  {
   "cell_type": "code",
   "execution_count": null,
   "metadata": {
    "scrolled": true
   },
   "outputs": [],
   "source": [
    "n = len(Y_treinamento)\n",
    "lista = []\n",
    "dias = []\n",
    "for i in range(20):\n",
    "    Y_offset = Y_treinamento.values[i:]\n",
    "    X_offset = X_treinamento.values[:(n-i),:]\n",
    "    results = regress(X_offset,Y_offset)\n",
    "    lista.append(results)\n",
    "    dias.append(i)\n",
    "    print(i, results.rsquared)"
   ]
  },
  {
   "cell_type": "markdown",
   "metadata": {},
   "source": [
    "#### Decidimos fazer a analise usando 10 períodos anteriores, uma vez que analisando até 200 períodos esse foi com maior precisão, ainda sim usando dados anteriores"
   ]
  },
  {
   "cell_type": "code",
   "execution_count": null,
   "metadata": {},
   "outputs": [],
   "source": [
    "i = 10\n",
    "Y_offset1 = Y_treinamento.values[i:]\n",
    "X_offset1 = X_treinamento.values[:(n-i),:]\n",
    "modelo = regress(X_offset1,Y_offset1)\n",
    "modelo.summary()"
   ]
  },
  {
   "cell_type": "code",
   "execution_count": null,
   "metadata": {},
   "outputs": [],
   "source": [
    "X_test_c = sm.add_constant(X_teste1)\n",
    "y_pred=modelo.predict(X_test_c)\n",
    "print(\"R2  =\",r2_score(Y_teste, y_pred))\n",
    "print(\"RMS =\",rms(Y_teste, y_pred))"
   ]
  },
  {
   "cell_type": "code",
   "execution_count": null,
   "metadata": {},
   "outputs": [],
   "source": [
    "lista = np.linspace(0, 329, 329)\n",
    "plt.title('Preço real e previsto')\n",
    "plt.plot(lista,Y_teste, label='Preço real')\n",
    "plt.plot(lista,y_pred, label = 'Preço Previsto')\n",
    "plt.legend()"
   ]
  },
  {
   "cell_type": "markdown",
   "metadata": {},
   "source": [
    "Como podemos analisar no resultado da regressão tivemos algumas variáveis com um  valor p a cima do nível de significancia (0.05). Isso nos mostra que não é possível ter certeza que essas variáveis influenciam no modelo. No entanto, as varíveis que estão dentro desse nível nos podemos confirmar que são influentes no modelo"
   ]
  },
  {
   "cell_type": "code",
   "execution_count": null,
   "metadata": {},
   "outputs": [],
   "source": [
    "X_treinamento1 = df_treinamento[[\n",
    " 'avg_block_size',\n",
    " 'cost_per_transaction',\n",
    " 'difficulty',\n",
    " 'estimated_transaction_volume_usd',\n",
    "]]\n",
    "X_teste1 = df_teste[[\n",
    " 'avg_block_size',\n",
    " 'cost_per_transaction',\n",
    " 'difficulty',\n",
    " 'estimated_transaction_volume_usd',\n",
    "]]"
   ]
  },
  {
   "cell_type": "code",
   "execution_count": null,
   "metadata": {},
   "outputs": [],
   "source": [
    "i = 10\n",
    "Y_offset1 = Y_treinamento.values[i:]\n",
    "X_offset1 = X_treinamento1.values[:(n-i),:]\n",
    "modelo = regress(X_offset1,Y_offset1)\n",
    "modelo.summary()"
   ]
  },
  {
   "cell_type": "markdown",
   "metadata": {},
   "source": [
    "Ao tirar as variáveis é possível perceber que não houve melhora na performace do código e por isso usaremos os modelos com mais variáveis"
   ]
  },
  {
   "cell_type": "markdown",
   "metadata": {},
   "source": [
    "#### Em nossa segunda regressão obtivemos um r-squared de 74.3%, ou seja, nosso modelo se ajusta aos pontos em 74.3% dos casos."
   ]
  },
  {
   "cell_type": "markdown",
   "metadata": {},
   "source": [
    "## Fazendo o  Decision Tree Regressor"
   ]
  },
  {
   "cell_type": "markdown",
   "metadata": {},
   "source": [
    "Uma árvore de decisão é um modelo de machine learning supervisionada, usado para prever um destino, aprendendo regras de decisão a partir de recursos. Como o nome sugere, podemos pensar nesse modelo como quebrar nossos dados, tomando uma decisão com base em fazer uma série de perguntas. O modelo de árvore de decisão aprende uma série de perguntas para inferir os rótulos de classe das amostras."
   ]
  },
  {
   "cell_type": "code",
   "execution_count": null,
   "metadata": {},
   "outputs": [],
   "source": [
    "#Decision Tree Regressor\n",
    "Arvore = DecisionTreeRegressor(random_state = 1)\n",
    "Arvore.fit(X_treinamento, Y_treinamento)\n",
    "plt.scatter(Y_teste, Arvore.predict(X_teste), color = 'blue')\n",
    "plt.show()"
   ]
  },
  {
   "cell_type": "code",
   "execution_count": null,
   "metadata": {},
   "outputs": [],
   "source": [
    "y_pred1=Arvore.predict(X_teste)\n",
    "print(\"R2  =\",r2_score(Y_teste, y_pred1))\n",
    "print(\"RMS =\",rms(Y_teste, y_pred1))"
   ]
  },
  {
   "cell_type": "code",
   "execution_count": null,
   "metadata": {},
   "outputs": [],
   "source": [
    "plt.title('Preço real e previsto')\n",
    "plt.plot(lista,Y_teste, label='Preço real')\n",
    "plt.plot(lista,y_pred1, label = 'Preço Previsto')\n",
    "plt.legend()"
   ]
  },
  {
   "cell_type": "markdown",
   "metadata": {},
   "source": [
    "## Fazendo o Random Forest Regressor"
   ]
  },
  {
   "cell_type": "markdown",
   "metadata": {},
   "source": [
    "O metodo de regrassao 'Random Forest', se utiliza dos mesmo recursos do 'Decision Tree Regressor', gerando varias arvores de decisao e combinando os resultados, produz geralmente um resultado mais satisfatorio que a decision tree."
   ]
  },
  {
   "cell_type": "code",
   "execution_count": null,
   "metadata": {},
   "outputs": [],
   "source": [
    "RandomF = RandomForestRegressor(random_state=0)\n",
    "RandomF.fit(X_treinamento1, Y_treinamento)\n",
    "plt.scatter(Y_teste, RandomF.predict(X_teste1), color = 'blue')\n",
    "plt.show()"
   ]
  },
  {
   "cell_type": "code",
   "execution_count": null,
   "metadata": {},
   "outputs": [],
   "source": [
    "y_pred2=RandomF.predict(X_teste1)\n",
    "print(\"R2  =\",r2_score(Y_teste, y_pred2))\n",
    "print(\"RMS =\",rms(Y_teste, y_pred2))"
   ]
  },
  {
   "cell_type": "code",
   "execution_count": null,
   "metadata": {},
   "outputs": [],
   "source": [
    "plt.title('Preço real e previsto')\n",
    "plt.plot(lista,Y_teste, label='Preço real')\n",
    "plt.plot(lista,y_pred2, label = 'Preço Previsto')\n",
    "plt.legend()"
   ]
  },
  {
   "cell_type": "markdown",
   "metadata": {},
   "source": [
    "## Conclusão"
   ]
  },
  {
   "cell_type": "code",
   "execution_count": null,
   "metadata": {},
   "outputs": [],
   "source": [
    "plt.title('Preço real e previsto usando regressão multipla')\n",
    "plt.plot(lista,Y_teste, label='Preço real')\n",
    "plt.plot(lista,y_pred, label = 'Preço Previsto')\n",
    "plt.legend()\n",
    "plt.show()\n",
    "plt.title('Preço real e previsto usando Decision Tree Regressor')\n",
    "plt.plot(lista,Y_teste, label='Preço real')\n",
    "plt.plot(lista,y_pred, label = 'Preço Previsto')\n",
    "plt.legend()\n",
    "plt.show()\n",
    "plt.title('Preço real e previsto usando Random Forest Regressor')\n",
    "plt.plot(lista,Y_teste, label='Preço real')\n",
    "plt.plot(lista,y_pred, label = 'Preço Previsto')\n",
    "plt.legend()\n",
    "plt.show()"
   ]
  },
  {
   "cell_type": "markdown",
   "metadata": {},
   "source": [
    "Como podemos ver o método de previsão que chegou mais perto de prever o preço foi a regressão múltipla. Mesmo assim é possível perceber que todos os modelos são muito falhos e apresentam grande erro ao mostrar a realidade.\n",
    "Ao nos depara com esse resultado tentamos fazer diversas iteração para tentar melhorar o modelo, porém todas se mostraram falhas.\n",
    "Após fazer uma análise, concluimos algumas razões que podem explicar os resultados.  \n",
    "-A dinamica do bitcoin mudou muito de 2014 pra cá, houve uma mudança de cenário e paradigma na cripto economia e, por isso, os dados do passado podem não se aplicar para explicar o presente  \n",
    "-Por ser um mercado muito especulativo, as variáveis técnicas que dizem respeito a saúde da rede blockchain podem não ter tanta importância no seu valor final  \n",
    "Pensamos que para próximas iteraões poderíamos fazer uso de um naive-bayes, do mesmo jeito que foi feito no projeto 2, para fazer uma análise sentimental em diversos portais de noticias e fóruns. Dessa forma poderíamos saber o que as pessoas estão achando e a partir disso concluir se o preço do ativo vai cair ou subir"
   ]
  },
  {
   "cell_type": "markdown",
   "metadata": {},
   "source": [
    "## Referencias Bibliograficas"
   ]
  },
  {
   "cell_type": "markdown",
   "metadata": {},
   "source": [
    "https://www.blockchain.com/charts\n",
    "\n",
    "https://changelly.com/blog/bitcoin-price-prediction-2019-2025-2030/"
   ]
  }
 ],
 "metadata": {
  "kernelspec": {
   "display_name": "Python 3",
   "language": "python",
   "name": "python3"
  },
  "language_info": {
   "codemirror_mode": {
    "name": "ipython",
    "version": 3
   },
   "file_extension": ".py",
   "mimetype": "text/x-python",
   "name": "python",
   "nbconvert_exporter": "python",
   "pygments_lexer": "ipython3",
   "version": "3.7.4"
  }
 },
 "nbformat": 4,
 "nbformat_minor": 2
}
