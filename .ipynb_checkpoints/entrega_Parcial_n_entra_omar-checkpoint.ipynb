{
 "cells": [
  {
   "cell_type": "markdown",
   "metadata": {},
   "source": [
    "# **Entrega Parcial**\n",
    "\n",
    "### Bitcoin Price Prediction\n",
    "\n",
    "- Alunos:  Thome, Nevton, Omar"
   ]
  },
  {
   "cell_type": "markdown",
   "metadata": {},
   "source": [
    "### Imports"
   ]
  },
  {
   "cell_type": "code",
   "execution_count": 1,
   "metadata": {},
   "outputs": [],
   "source": [
    "import pandas as pd\n",
    "import plotly.offline as py\n",
    "import plotly.graph_objs as go\n",
    "import plotly.figure_factory as ff"
   ]
  },
  {
   "cell_type": "markdown",
   "metadata": {},
   "source": [
    "### Abrindo o dataframe"
   ]
  },
  {
   "cell_type": "code",
   "execution_count": 3,
   "metadata": {},
   "outputs": [
    {
     "data": {
      "text/html": [
       "<div>\n",
       "<style scoped>\n",
       "    .dataframe tbody tr th:only-of-type {\n",
       "        vertical-align: middle;\n",
       "    }\n",
       "\n",
       "    .dataframe tbody tr th {\n",
       "        vertical-align: top;\n",
       "    }\n",
       "\n",
       "    .dataframe thead th {\n",
       "        text-align: right;\n",
       "    }\n",
       "</style>\n",
       "<table border=\"1\" class=\"dataframe\">\n",
       "  <thead>\n",
       "    <tr style=\"text-align: right;\">\n",
       "      <th></th>\n",
       "      <th>avg_block_size</th>\n",
       "      <th>cost_per_transaction_percent</th>\n",
       "      <th>cost_per_transaction</th>\n",
       "      <th>difficulty</th>\n",
       "      <th>estimated_transaction_volume_usd</th>\n",
       "      <th>hash_rate</th>\n",
       "      <th>market_cap</th>\n",
       "      <th>market_price_2</th>\n",
       "      <th>miners_revenue</th>\n",
       "      <th>n_transactions_excluding_popular</th>\n",
       "      <th>n_transactions</th>\n",
       "      <th>output_volume</th>\n",
       "      <th>total_bitcoins</th>\n",
       "      <th>transaction_fees</th>\n",
       "    </tr>\n",
       "  </thead>\n",
       "  <tbody>\n",
       "    <tr>\n",
       "      <th>avg_block_size</th>\n",
       "      <td>1.000000</td>\n",
       "      <td>-0.051597</td>\n",
       "      <td>0.529394</td>\n",
       "      <td>0.636240</td>\n",
       "      <td>0.661933</td>\n",
       "      <td>0.626424</td>\n",
       "      <td>0.702011</td>\n",
       "      <td>0.702377</td>\n",
       "      <td>0.665177</td>\n",
       "      <td>0.971450</td>\n",
       "      <td>0.972875</td>\n",
       "      <td>0.259226</td>\n",
       "      <td>0.853095</td>\n",
       "      <td>0.515961</td>\n",
       "    </tr>\n",
       "    <tr>\n",
       "      <th>cost_per_transaction_percent</th>\n",
       "      <td>-0.051597</td>\n",
       "      <td>1.000000</td>\n",
       "      <td>-0.038664</td>\n",
       "      <td>-0.023245</td>\n",
       "      <td>-0.025296</td>\n",
       "      <td>-0.023179</td>\n",
       "      <td>-0.027506</td>\n",
       "      <td>-0.028073</td>\n",
       "      <td>-0.028579</td>\n",
       "      <td>-0.048561</td>\n",
       "      <td>-0.051035</td>\n",
       "      <td>-0.033656</td>\n",
       "      <td>-0.091230</td>\n",
       "      <td>-0.025885</td>\n",
       "    </tr>\n",
       "    <tr>\n",
       "      <th>cost_per_transaction</th>\n",
       "      <td>0.529394</td>\n",
       "      <td>-0.038664</td>\n",
       "      <td>1.000000</td>\n",
       "      <td>0.559057</td>\n",
       "      <td>0.738785</td>\n",
       "      <td>0.569977</td>\n",
       "      <td>0.857025</td>\n",
       "      <td>0.867885</td>\n",
       "      <td>0.881768</td>\n",
       "      <td>0.494602</td>\n",
       "      <td>0.500931</td>\n",
       "      <td>0.033923</td>\n",
       "      <td>0.550975</td>\n",
       "      <td>0.402727</td>\n",
       "    </tr>\n",
       "    <tr>\n",
       "      <th>difficulty</th>\n",
       "      <td>0.636240</td>\n",
       "      <td>-0.023245</td>\n",
       "      <td>0.559057</td>\n",
       "      <td>1.000000</td>\n",
       "      <td>0.530863</td>\n",
       "      <td>0.992881</td>\n",
       "      <td>0.786755</td>\n",
       "      <td>0.769127</td>\n",
       "      <td>0.684650</td>\n",
       "      <td>0.628557</td>\n",
       "      <td>0.637798</td>\n",
       "      <td>0.022962</td>\n",
       "      <td>0.503553</td>\n",
       "      <td>0.073641</td>\n",
       "    </tr>\n",
       "    <tr>\n",
       "      <th>estimated_transaction_volume_usd</th>\n",
       "      <td>0.661933</td>\n",
       "      <td>-0.025296</td>\n",
       "      <td>0.738785</td>\n",
       "      <td>0.530863</td>\n",
       "      <td>1.000000</td>\n",
       "      <td>0.531814</td>\n",
       "      <td>0.876827</td>\n",
       "      <td>0.884338</td>\n",
       "      <td>0.911858</td>\n",
       "      <td>0.661108</td>\n",
       "      <td>0.670106</td>\n",
       "      <td>0.138356</td>\n",
       "      <td>0.492783</td>\n",
       "      <td>0.682271</td>\n",
       "    </tr>\n",
       "    <tr>\n",
       "      <th>hash_rate</th>\n",
       "      <td>0.626424</td>\n",
       "      <td>-0.023179</td>\n",
       "      <td>0.569977</td>\n",
       "      <td>0.992881</td>\n",
       "      <td>0.531814</td>\n",
       "      <td>1.000000</td>\n",
       "      <td>0.789750</td>\n",
       "      <td>0.772287</td>\n",
       "      <td>0.698649</td>\n",
       "      <td>0.631557</td>\n",
       "      <td>0.640881</td>\n",
       "      <td>0.020669</td>\n",
       "      <td>0.502001</td>\n",
       "      <td>0.077810</td>\n",
       "    </tr>\n",
       "    <tr>\n",
       "      <th>market_cap</th>\n",
       "      <td>0.702011</td>\n",
       "      <td>-0.027506</td>\n",
       "      <td>0.857025</td>\n",
       "      <td>0.786755</td>\n",
       "      <td>0.876827</td>\n",
       "      <td>0.789750</td>\n",
       "      <td>1.000000</td>\n",
       "      <td>0.999379</td>\n",
       "      <td>0.976817</td>\n",
       "      <td>0.683876</td>\n",
       "      <td>0.693548</td>\n",
       "      <td>0.082127</td>\n",
       "      <td>0.556133</td>\n",
       "      <td>0.472432</td>\n",
       "    </tr>\n",
       "    <tr>\n",
       "      <th>market_price_2</th>\n",
       "      <td>0.702377</td>\n",
       "      <td>-0.028073</td>\n",
       "      <td>0.867885</td>\n",
       "      <td>0.769127</td>\n",
       "      <td>0.884338</td>\n",
       "      <td>0.772287</td>\n",
       "      <td>0.999379</td>\n",
       "      <td>1.000000</td>\n",
       "      <td>0.980881</td>\n",
       "      <td>0.683373</td>\n",
       "      <td>0.692805</td>\n",
       "      <td>0.084028</td>\n",
       "      <td>0.560533</td>\n",
       "      <td>0.487465</td>\n",
       "    </tr>\n",
       "    <tr>\n",
       "      <th>miners_revenue</th>\n",
       "      <td>0.665177</td>\n",
       "      <td>-0.028579</td>\n",
       "      <td>0.881768</td>\n",
       "      <td>0.684650</td>\n",
       "      <td>0.911858</td>\n",
       "      <td>0.698649</td>\n",
       "      <td>0.976817</td>\n",
       "      <td>0.980881</td>\n",
       "      <td>1.000000</td>\n",
       "      <td>0.666400</td>\n",
       "      <td>0.676036</td>\n",
       "      <td>0.091096</td>\n",
       "      <td>0.545469</td>\n",
       "      <td>0.564392</td>\n",
       "    </tr>\n",
       "    <tr>\n",
       "      <th>n_transactions_excluding_popular</th>\n",
       "      <td>0.971450</td>\n",
       "      <td>-0.048561</td>\n",
       "      <td>0.494602</td>\n",
       "      <td>0.628557</td>\n",
       "      <td>0.661108</td>\n",
       "      <td>0.631557</td>\n",
       "      <td>0.683876</td>\n",
       "      <td>0.683373</td>\n",
       "      <td>0.666400</td>\n",
       "      <td>1.000000</td>\n",
       "      <td>0.995444</td>\n",
       "      <td>0.259574</td>\n",
       "      <td>0.823252</td>\n",
       "      <td>0.540150</td>\n",
       "    </tr>\n",
       "    <tr>\n",
       "      <th>n_transactions</th>\n",
       "      <td>0.972875</td>\n",
       "      <td>-0.051035</td>\n",
       "      <td>0.500931</td>\n",
       "      <td>0.637798</td>\n",
       "      <td>0.670106</td>\n",
       "      <td>0.640881</td>\n",
       "      <td>0.693548</td>\n",
       "      <td>0.692805</td>\n",
       "      <td>0.676036</td>\n",
       "      <td>0.995444</td>\n",
       "      <td>1.000000</td>\n",
       "      <td>0.270519</td>\n",
       "      <td>0.837837</td>\n",
       "      <td>0.546281</td>\n",
       "    </tr>\n",
       "    <tr>\n",
       "      <th>output_volume</th>\n",
       "      <td>0.259226</td>\n",
       "      <td>-0.033656</td>\n",
       "      <td>0.033923</td>\n",
       "      <td>0.022962</td>\n",
       "      <td>0.138356</td>\n",
       "      <td>0.020669</td>\n",
       "      <td>0.082127</td>\n",
       "      <td>0.084028</td>\n",
       "      <td>0.091096</td>\n",
       "      <td>0.259574</td>\n",
       "      <td>0.270519</td>\n",
       "      <td>1.000000</td>\n",
       "      <td>0.299165</td>\n",
       "      <td>0.215431</td>\n",
       "    </tr>\n",
       "    <tr>\n",
       "      <th>total_bitcoins</th>\n",
       "      <td>0.853095</td>\n",
       "      <td>-0.091230</td>\n",
       "      <td>0.550975</td>\n",
       "      <td>0.503553</td>\n",
       "      <td>0.492783</td>\n",
       "      <td>0.502001</td>\n",
       "      <td>0.556133</td>\n",
       "      <td>0.560533</td>\n",
       "      <td>0.545469</td>\n",
       "      <td>0.823252</td>\n",
       "      <td>0.837837</td>\n",
       "      <td>0.299165</td>\n",
       "      <td>1.000000</td>\n",
       "      <td>0.394698</td>\n",
       "    </tr>\n",
       "    <tr>\n",
       "      <th>transaction_fees</th>\n",
       "      <td>0.515961</td>\n",
       "      <td>-0.025885</td>\n",
       "      <td>0.402727</td>\n",
       "      <td>0.073641</td>\n",
       "      <td>0.682271</td>\n",
       "      <td>0.077810</td>\n",
       "      <td>0.472432</td>\n",
       "      <td>0.487465</td>\n",
       "      <td>0.564392</td>\n",
       "      <td>0.540150</td>\n",
       "      <td>0.546281</td>\n",
       "      <td>0.215431</td>\n",
       "      <td>0.394698</td>\n",
       "      <td>1.000000</td>\n",
       "    </tr>\n",
       "  </tbody>\n",
       "</table>\n",
       "</div>"
      ],
      "text/plain": [
       "                                  avg_block_size  \\\n",
       "avg_block_size                          1.000000   \n",
       "cost_per_transaction_percent           -0.051597   \n",
       "cost_per_transaction                    0.529394   \n",
       "difficulty                              0.636240   \n",
       "estimated_transaction_volume_usd        0.661933   \n",
       "hash_rate                               0.626424   \n",
       "market_cap                              0.702011   \n",
       "market_price_2                          0.702377   \n",
       "miners_revenue                          0.665177   \n",
       "n_transactions_excluding_popular        0.971450   \n",
       "n_transactions                          0.972875   \n",
       "output_volume                           0.259226   \n",
       "total_bitcoins                          0.853095   \n",
       "transaction_fees                        0.515961   \n",
       "\n",
       "                                  cost_per_transaction_percent  \\\n",
       "avg_block_size                                       -0.051597   \n",
       "cost_per_transaction_percent                          1.000000   \n",
       "cost_per_transaction                                 -0.038664   \n",
       "difficulty                                           -0.023245   \n",
       "estimated_transaction_volume_usd                     -0.025296   \n",
       "hash_rate                                            -0.023179   \n",
       "market_cap                                           -0.027506   \n",
       "market_price_2                                       -0.028073   \n",
       "miners_revenue                                       -0.028579   \n",
       "n_transactions_excluding_popular                     -0.048561   \n",
       "n_transactions                                       -0.051035   \n",
       "output_volume                                        -0.033656   \n",
       "total_bitcoins                                       -0.091230   \n",
       "transaction_fees                                     -0.025885   \n",
       "\n",
       "                                  cost_per_transaction  difficulty  \\\n",
       "avg_block_size                                0.529394    0.636240   \n",
       "cost_per_transaction_percent                 -0.038664   -0.023245   \n",
       "cost_per_transaction                          1.000000    0.559057   \n",
       "difficulty                                    0.559057    1.000000   \n",
       "estimated_transaction_volume_usd              0.738785    0.530863   \n",
       "hash_rate                                     0.569977    0.992881   \n",
       "market_cap                                    0.857025    0.786755   \n",
       "market_price_2                                0.867885    0.769127   \n",
       "miners_revenue                                0.881768    0.684650   \n",
       "n_transactions_excluding_popular              0.494602    0.628557   \n",
       "n_transactions                                0.500931    0.637798   \n",
       "output_volume                                 0.033923    0.022962   \n",
       "total_bitcoins                                0.550975    0.503553   \n",
       "transaction_fees                              0.402727    0.073641   \n",
       "\n",
       "                                  estimated_transaction_volume_usd  hash_rate  \\\n",
       "avg_block_size                                            0.661933   0.626424   \n",
       "cost_per_transaction_percent                             -0.025296  -0.023179   \n",
       "cost_per_transaction                                      0.738785   0.569977   \n",
       "difficulty                                                0.530863   0.992881   \n",
       "estimated_transaction_volume_usd                          1.000000   0.531814   \n",
       "hash_rate                                                 0.531814   1.000000   \n",
       "market_cap                                                0.876827   0.789750   \n",
       "market_price_2                                            0.884338   0.772287   \n",
       "miners_revenue                                            0.911858   0.698649   \n",
       "n_transactions_excluding_popular                          0.661108   0.631557   \n",
       "n_transactions                                            0.670106   0.640881   \n",
       "output_volume                                             0.138356   0.020669   \n",
       "total_bitcoins                                            0.492783   0.502001   \n",
       "transaction_fees                                          0.682271   0.077810   \n",
       "\n",
       "                                  market_cap  market_price_2  miners_revenue  \\\n",
       "avg_block_size                      0.702011        0.702377        0.665177   \n",
       "cost_per_transaction_percent       -0.027506       -0.028073       -0.028579   \n",
       "cost_per_transaction                0.857025        0.867885        0.881768   \n",
       "difficulty                          0.786755        0.769127        0.684650   \n",
       "estimated_transaction_volume_usd    0.876827        0.884338        0.911858   \n",
       "hash_rate                           0.789750        0.772287        0.698649   \n",
       "market_cap                          1.000000        0.999379        0.976817   \n",
       "market_price_2                      0.999379        1.000000        0.980881   \n",
       "miners_revenue                      0.976817        0.980881        1.000000   \n",
       "n_transactions_excluding_popular    0.683876        0.683373        0.666400   \n",
       "n_transactions                      0.693548        0.692805        0.676036   \n",
       "output_volume                       0.082127        0.084028        0.091096   \n",
       "total_bitcoins                      0.556133        0.560533        0.545469   \n",
       "transaction_fees                    0.472432        0.487465        0.564392   \n",
       "\n",
       "                                  n_transactions_excluding_popular  \\\n",
       "avg_block_size                                            0.971450   \n",
       "cost_per_transaction_percent                             -0.048561   \n",
       "cost_per_transaction                                      0.494602   \n",
       "difficulty                                                0.628557   \n",
       "estimated_transaction_volume_usd                          0.661108   \n",
       "hash_rate                                                 0.631557   \n",
       "market_cap                                                0.683876   \n",
       "market_price_2                                            0.683373   \n",
       "miners_revenue                                            0.666400   \n",
       "n_transactions_excluding_popular                          1.000000   \n",
       "n_transactions                                            0.995444   \n",
       "output_volume                                             0.259574   \n",
       "total_bitcoins                                            0.823252   \n",
       "transaction_fees                                          0.540150   \n",
       "\n",
       "                                  n_transactions  output_volume  \\\n",
       "avg_block_size                          0.972875       0.259226   \n",
       "cost_per_transaction_percent           -0.051035      -0.033656   \n",
       "cost_per_transaction                    0.500931       0.033923   \n",
       "difficulty                              0.637798       0.022962   \n",
       "estimated_transaction_volume_usd        0.670106       0.138356   \n",
       "hash_rate                               0.640881       0.020669   \n",
       "market_cap                              0.693548       0.082127   \n",
       "market_price_2                          0.692805       0.084028   \n",
       "miners_revenue                          0.676036       0.091096   \n",
       "n_transactions_excluding_popular        0.995444       0.259574   \n",
       "n_transactions                          1.000000       0.270519   \n",
       "output_volume                           0.270519       1.000000   \n",
       "total_bitcoins                          0.837837       0.299165   \n",
       "transaction_fees                        0.546281       0.215431   \n",
       "\n",
       "                                  total_bitcoins  transaction_fees  \n",
       "avg_block_size                          0.853095          0.515961  \n",
       "cost_per_transaction_percent           -0.091230         -0.025885  \n",
       "cost_per_transaction                    0.550975          0.402727  \n",
       "difficulty                              0.503553          0.073641  \n",
       "estimated_transaction_volume_usd        0.492783          0.682271  \n",
       "hash_rate                               0.502001          0.077810  \n",
       "market_cap                              0.556133          0.472432  \n",
       "market_price_2                          0.560533          0.487465  \n",
       "miners_revenue                          0.545469          0.564392  \n",
       "n_transactions_excluding_popular        0.823252          0.540150  \n",
       "n_transactions                          0.837837          0.546281  \n",
       "output_volume                           0.299165          0.215431  \n",
       "total_bitcoins                          1.000000          0.394698  \n",
       "transaction_fees                        0.394698          1.000000  "
      ]
     },
     "execution_count": 3,
     "metadata": {},
     "output_type": "execute_result"
    }
   ],
   "source": [
    "dfs = pd.read_excel('DataFrame_bitcoin.xlsx')\n",
    "my_list = dfs[\"avg_block_size\"].tolist()\n",
    "tabela_corr = dfs.corr()\n",
    "tabela_corr"
   ]
  },
  {
   "cell_type": "markdown",
   "metadata": {},
   "source": [
    "### Criando o Heatmap"
   ]
  },
  {
   "cell_type": "code",
   "execution_count": 9,
   "metadata": {},
   "outputs": [
    {
     "data": {
      "application/vnd.plotly.v1+json": {
       "config": {
        "linkText": "Export to plot.ly",
        "plotlyServerURL": "https://plot.ly",
        "showLink": false
       },
       "data": [
        {
         "colorbar": {
          "title": {
           "text": "Pearson Coefficient"
          }
         },
         "type": "heatmap",
         "x": [
          "Date",
          "avg_block_size",
          "cost_per_transaction_percent",
          "cost_per_transaction",
          "difficulty",
          "estimated_transaction_volume_usd",
          "hash_rate",
          "market_cap",
          "market_price_2",
          "miners_revenue",
          "n_transactions_excluding_popular",
          "n_transactions",
          "output_volume",
          "total_bitcoins",
          "transaction_fees"
         ],
         "y": [
          "Date",
          "avg_block_size",
          "cost_per_transaction_percent",
          "cost_per_transaction",
          "difficulty",
          "estimated_transaction_volume_usd",
          "hash_rate",
          "market_cap",
          "market_price_2",
          "miners_revenue",
          "n_transactions_excluding_popular",
          "n_transactions",
          "output_volume",
          "total_bitcoins",
          "transaction_fees"
         ],
         "z": [
          [
           1,
           -0.05159719811000768,
           0.5293937929109183,
           0.6362400448819281,
           0.661933264762577,
           0.6264239312094403,
           0.7020113767368132,
           0.7023769156032319,
           0.6651769845880537,
           0.9714498177051587,
           0.9728749975859173,
           0.2592256522401916,
           0.8530945987536961,
           0.5159605875608606
          ],
          [
           -0.05159719811000768,
           1,
           -0.03866434470023296,
           -0.023244964752338112,
           -0.02529615671555396,
           -0.02317906268181057,
           -0.027505607921631738,
           -0.028072721480991478,
           -0.0285787800914859,
           -0.048560898529627826,
           -0.0510348354194372,
           -0.033656227178297304,
           -0.09123038496286108,
           -0.025884594958621564
          ],
          [
           0.5293937929109183,
           -0.03866434470023296,
           1,
           0.5590566008084509,
           0.738785036825618,
           0.5699765965696159,
           0.8570248342783622,
           0.867885173554811,
           0.8817675448562615,
           0.4946017201498144,
           0.5009313209594599,
           0.033923232888563186,
           0.5509749138364622,
           0.4027267920847271
          ],
          [
           0.6362400448819281,
           -0.023244964752338112,
           0.5590566008084509,
           1,
           0.530863088764135,
           0.9928809377443261,
           0.7867551975826897,
           0.7691273776711429,
           0.6846504969173285,
           0.6285571514797262,
           0.6377978786870022,
           0.022962322076146898,
           0.5035526176227131,
           0.07364120692515996
          ],
          [
           0.661933264762577,
           -0.02529615671555396,
           0.738785036825618,
           0.530863088764135,
           1,
           0.5318137965915655,
           0.876827259224985,
           0.8843379750019592,
           0.9118577535317087,
           0.6611078317919471,
           0.6701062600752222,
           0.13835603249785713,
           0.49278311623347365,
           0.6822713307116106
          ],
          [
           0.6264239312094403,
           -0.02317906268181057,
           0.5699765965696159,
           0.9928809377443261,
           0.5318137965915655,
           1,
           0.7897500918785131,
           0.7722868871962285,
           0.6986489133290625,
           0.6315574670515092,
           0.6408806655346966,
           0.020668746099118295,
           0.5020014690587907,
           0.0778101924096815
          ],
          [
           0.7020113767368132,
           -0.027505607921631738,
           0.8570248342783622,
           0.7867551975826897,
           0.876827259224985,
           0.7897500918785131,
           1,
           0.9993790477261594,
           0.9768173810746344,
           0.6838760552640759,
           0.6935480725714998,
           0.08212687078444715,
           0.5561334393254463,
           0.47243190777931676
          ],
          [
           0.7023769156032319,
           -0.028072721480991478,
           0.867885173554811,
           0.7691273776711429,
           0.8843379750019592,
           0.7722868871962285,
           0.9993790477261594,
           1,
           0.9808813938803163,
           0.6833733239466927,
           0.6928049041428168,
           0.08402779983975774,
           0.5605327682102815,
           0.48746492187894597
          ],
          [
           0.6651769845880537,
           -0.0285787800914859,
           0.8817675448562615,
           0.6846504969173285,
           0.9118577535317087,
           0.6986489133290625,
           0.9768173810746344,
           0.9808813938803163,
           1,
           0.6663999044860663,
           0.6760360459835086,
           0.09109638925932168,
           0.5454692501979176,
           0.5643916231495333
          ],
          [
           0.9714498177051587,
           -0.048560898529627826,
           0.4946017201498144,
           0.6285571514797262,
           0.6611078317919471,
           0.6315574670515092,
           0.6838760552640759,
           0.6833733239466927,
           0.6663999044860663,
           1,
           0.9954437383803452,
           0.2595743068497127,
           0.8232519732060463,
           0.5401497748636128
          ],
          [
           0.9728749975859173,
           -0.0510348354194372,
           0.5009313209594599,
           0.6377978786870022,
           0.6701062600752222,
           0.6408806655346966,
           0.6935480725714998,
           0.6928049041428168,
           0.6760360459835086,
           0.9954437383803452,
           1,
           0.2705185246947696,
           0.837837342240387,
           0.5462813536768256
          ],
          [
           0.2592256522401916,
           -0.033656227178297304,
           0.033923232888563186,
           0.022962322076146898,
           0.13835603249785713,
           0.020668746099118295,
           0.08212687078444715,
           0.08402779983975774,
           0.09109638925932168,
           0.2595743068497127,
           0.2705185246947696,
           1,
           0.29916545461111166,
           0.2154313534051086
          ],
          [
           0.8530945987536961,
           -0.09123038496286108,
           0.5509749138364622,
           0.5035526176227131,
           0.49278311623347365,
           0.5020014690587907,
           0.5561334393254463,
           0.5605327682102815,
           0.5454692501979176,
           0.8232519732060463,
           0.837837342240387,
           0.29916545461111166,
           1,
           0.39469774251414746
          ],
          [
           0.5159605875608606,
           -0.025884594958621564,
           0.4027267920847271,
           0.07364120692515996,
           0.6822713307116106,
           0.0778101924096815,
           0.47243190777931676,
           0.48746492187894597,
           0.5643916231495333,
           0.5401497748636128,
           0.5462813536768256,
           0.2154313534051086,
           0.39469774251414746,
           1
          ]
         ],
         "zmax": 1,
         "zmin": -1
        }
       ],
       "layout": {
        "template": {
         "data": {
          "bar": [
           {
            "error_x": {
             "color": "#2a3f5f"
            },
            "error_y": {
             "color": "#2a3f5f"
            },
            "marker": {
             "line": {
              "color": "#E5ECF6",
              "width": 0.5
             }
            },
            "type": "bar"
           }
          ],
          "barpolar": [
           {
            "marker": {
             "line": {
              "color": "#E5ECF6",
              "width": 0.5
             }
            },
            "type": "barpolar"
           }
          ],
          "carpet": [
           {
            "aaxis": {
             "endlinecolor": "#2a3f5f",
             "gridcolor": "white",
             "linecolor": "white",
             "minorgridcolor": "white",
             "startlinecolor": "#2a3f5f"
            },
            "baxis": {
             "endlinecolor": "#2a3f5f",
             "gridcolor": "white",
             "linecolor": "white",
             "minorgridcolor": "white",
             "startlinecolor": "#2a3f5f"
            },
            "type": "carpet"
           }
          ],
          "choropleth": [
           {
            "colorbar": {
             "outlinewidth": 0,
             "ticks": ""
            },
            "type": "choropleth"
           }
          ],
          "contour": [
           {
            "colorbar": {
             "outlinewidth": 0,
             "ticks": ""
            },
            "colorscale": [
             [
              0,
              "#0d0887"
             ],
             [
              0.1111111111111111,
              "#46039f"
             ],
             [
              0.2222222222222222,
              "#7201a8"
             ],
             [
              0.3333333333333333,
              "#9c179e"
             ],
             [
              0.4444444444444444,
              "#bd3786"
             ],
             [
              0.5555555555555556,
              "#d8576b"
             ],
             [
              0.6666666666666666,
              "#ed7953"
             ],
             [
              0.7777777777777778,
              "#fb9f3a"
             ],
             [
              0.8888888888888888,
              "#fdca26"
             ],
             [
              1,
              "#f0f921"
             ]
            ],
            "type": "contour"
           }
          ],
          "contourcarpet": [
           {
            "colorbar": {
             "outlinewidth": 0,
             "ticks": ""
            },
            "type": "contourcarpet"
           }
          ],
          "heatmap": [
           {
            "colorbar": {
             "outlinewidth": 0,
             "ticks": ""
            },
            "colorscale": [
             [
              0,
              "#0d0887"
             ],
             [
              0.1111111111111111,
              "#46039f"
             ],
             [
              0.2222222222222222,
              "#7201a8"
             ],
             [
              0.3333333333333333,
              "#9c179e"
             ],
             [
              0.4444444444444444,
              "#bd3786"
             ],
             [
              0.5555555555555556,
              "#d8576b"
             ],
             [
              0.6666666666666666,
              "#ed7953"
             ],
             [
              0.7777777777777778,
              "#fb9f3a"
             ],
             [
              0.8888888888888888,
              "#fdca26"
             ],
             [
              1,
              "#f0f921"
             ]
            ],
            "type": "heatmap"
           }
          ],
          "heatmapgl": [
           {
            "colorbar": {
             "outlinewidth": 0,
             "ticks": ""
            },
            "colorscale": [
             [
              0,
              "#0d0887"
             ],
             [
              0.1111111111111111,
              "#46039f"
             ],
             [
              0.2222222222222222,
              "#7201a8"
             ],
             [
              0.3333333333333333,
              "#9c179e"
             ],
             [
              0.4444444444444444,
              "#bd3786"
             ],
             [
              0.5555555555555556,
              "#d8576b"
             ],
             [
              0.6666666666666666,
              "#ed7953"
             ],
             [
              0.7777777777777778,
              "#fb9f3a"
             ],
             [
              0.8888888888888888,
              "#fdca26"
             ],
             [
              1,
              "#f0f921"
             ]
            ],
            "type": "heatmapgl"
           }
          ],
          "histogram": [
           {
            "marker": {
             "colorbar": {
              "outlinewidth": 0,
              "ticks": ""
             }
            },
            "type": "histogram"
           }
          ],
          "histogram2d": [
           {
            "colorbar": {
             "outlinewidth": 0,
             "ticks": ""
            },
            "colorscale": [
             [
              0,
              "#0d0887"
             ],
             [
              0.1111111111111111,
              "#46039f"
             ],
             [
              0.2222222222222222,
              "#7201a8"
             ],
             [
              0.3333333333333333,
              "#9c179e"
             ],
             [
              0.4444444444444444,
              "#bd3786"
             ],
             [
              0.5555555555555556,
              "#d8576b"
             ],
             [
              0.6666666666666666,
              "#ed7953"
             ],
             [
              0.7777777777777778,
              "#fb9f3a"
             ],
             [
              0.8888888888888888,
              "#fdca26"
             ],
             [
              1,
              "#f0f921"
             ]
            ],
            "type": "histogram2d"
           }
          ],
          "histogram2dcontour": [
           {
            "colorbar": {
             "outlinewidth": 0,
             "ticks": ""
            },
            "colorscale": [
             [
              0,
              "#0d0887"
             ],
             [
              0.1111111111111111,
              "#46039f"
             ],
             [
              0.2222222222222222,
              "#7201a8"
             ],
             [
              0.3333333333333333,
              "#9c179e"
             ],
             [
              0.4444444444444444,
              "#bd3786"
             ],
             [
              0.5555555555555556,
              "#d8576b"
             ],
             [
              0.6666666666666666,
              "#ed7953"
             ],
             [
              0.7777777777777778,
              "#fb9f3a"
             ],
             [
              0.8888888888888888,
              "#fdca26"
             ],
             [
              1,
              "#f0f921"
             ]
            ],
            "type": "histogram2dcontour"
           }
          ],
          "mesh3d": [
           {
            "colorbar": {
             "outlinewidth": 0,
             "ticks": ""
            },
            "type": "mesh3d"
           }
          ],
          "parcoords": [
           {
            "line": {
             "colorbar": {
              "outlinewidth": 0,
              "ticks": ""
             }
            },
            "type": "parcoords"
           }
          ],
          "pie": [
           {
            "automargin": true,
            "type": "pie"
           }
          ],
          "scatter": [
           {
            "marker": {
             "colorbar": {
              "outlinewidth": 0,
              "ticks": ""
             }
            },
            "type": "scatter"
           }
          ],
          "scatter3d": [
           {
            "line": {
             "colorbar": {
              "outlinewidth": 0,
              "ticks": ""
             }
            },
            "marker": {
             "colorbar": {
              "outlinewidth": 0,
              "ticks": ""
             }
            },
            "type": "scatter3d"
           }
          ],
          "scattercarpet": [
           {
            "marker": {
             "colorbar": {
              "outlinewidth": 0,
              "ticks": ""
             }
            },
            "type": "scattercarpet"
           }
          ],
          "scattergeo": [
           {
            "marker": {
             "colorbar": {
              "outlinewidth": 0,
              "ticks": ""
             }
            },
            "type": "scattergeo"
           }
          ],
          "scattergl": [
           {
            "marker": {
             "colorbar": {
              "outlinewidth": 0,
              "ticks": ""
             }
            },
            "type": "scattergl"
           }
          ],
          "scattermapbox": [
           {
            "marker": {
             "colorbar": {
              "outlinewidth": 0,
              "ticks": ""
             }
            },
            "type": "scattermapbox"
           }
          ],
          "scatterpolar": [
           {
            "marker": {
             "colorbar": {
              "outlinewidth": 0,
              "ticks": ""
             }
            },
            "type": "scatterpolar"
           }
          ],
          "scatterpolargl": [
           {
            "marker": {
             "colorbar": {
              "outlinewidth": 0,
              "ticks": ""
             }
            },
            "type": "scatterpolargl"
           }
          ],
          "scatterternary": [
           {
            "marker": {
             "colorbar": {
              "outlinewidth": 0,
              "ticks": ""
             }
            },
            "type": "scatterternary"
           }
          ],
          "surface": [
           {
            "colorbar": {
             "outlinewidth": 0,
             "ticks": ""
            },
            "colorscale": [
             [
              0,
              "#0d0887"
             ],
             [
              0.1111111111111111,
              "#46039f"
             ],
             [
              0.2222222222222222,
              "#7201a8"
             ],
             [
              0.3333333333333333,
              "#9c179e"
             ],
             [
              0.4444444444444444,
              "#bd3786"
             ],
             [
              0.5555555555555556,
              "#d8576b"
             ],
             [
              0.6666666666666666,
              "#ed7953"
             ],
             [
              0.7777777777777778,
              "#fb9f3a"
             ],
             [
              0.8888888888888888,
              "#fdca26"
             ],
             [
              1,
              "#f0f921"
             ]
            ],
            "type": "surface"
           }
          ],
          "table": [
           {
            "cells": {
             "fill": {
              "color": "#EBF0F8"
             },
             "line": {
              "color": "white"
             }
            },
            "header": {
             "fill": {
              "color": "#C8D4E3"
             },
             "line": {
              "color": "white"
             }
            },
            "type": "table"
           }
          ]
         },
         "layout": {
          "annotationdefaults": {
           "arrowcolor": "#2a3f5f",
           "arrowhead": 0,
           "arrowwidth": 1
          },
          "coloraxis": {
           "colorbar": {
            "outlinewidth": 0,
            "ticks": ""
           }
          },
          "colorscale": {
           "diverging": [
            [
             0,
             "#8e0152"
            ],
            [
             0.1,
             "#c51b7d"
            ],
            [
             0.2,
             "#de77ae"
            ],
            [
             0.3,
             "#f1b6da"
            ],
            [
             0.4,
             "#fde0ef"
            ],
            [
             0.5,
             "#f7f7f7"
            ],
            [
             0.6,
             "#e6f5d0"
            ],
            [
             0.7,
             "#b8e186"
            ],
            [
             0.8,
             "#7fbc41"
            ],
            [
             0.9,
             "#4d9221"
            ],
            [
             1,
             "#276419"
            ]
           ],
           "sequential": [
            [
             0,
             "#0d0887"
            ],
            [
             0.1111111111111111,
             "#46039f"
            ],
            [
             0.2222222222222222,
             "#7201a8"
            ],
            [
             0.3333333333333333,
             "#9c179e"
            ],
            [
             0.4444444444444444,
             "#bd3786"
            ],
            [
             0.5555555555555556,
             "#d8576b"
            ],
            [
             0.6666666666666666,
             "#ed7953"
            ],
            [
             0.7777777777777778,
             "#fb9f3a"
            ],
            [
             0.8888888888888888,
             "#fdca26"
            ],
            [
             1,
             "#f0f921"
            ]
           ],
           "sequentialminus": [
            [
             0,
             "#0d0887"
            ],
            [
             0.1111111111111111,
             "#46039f"
            ],
            [
             0.2222222222222222,
             "#7201a8"
            ],
            [
             0.3333333333333333,
             "#9c179e"
            ],
            [
             0.4444444444444444,
             "#bd3786"
            ],
            [
             0.5555555555555556,
             "#d8576b"
            ],
            [
             0.6666666666666666,
             "#ed7953"
            ],
            [
             0.7777777777777778,
             "#fb9f3a"
            ],
            [
             0.8888888888888888,
             "#fdca26"
            ],
            [
             1,
             "#f0f921"
            ]
           ]
          },
          "colorway": [
           "#636efa",
           "#EF553B",
           "#00cc96",
           "#ab63fa",
           "#FFA15A",
           "#19d3f3",
           "#FF6692",
           "#B6E880",
           "#FF97FF",
           "#FECB52"
          ],
          "font": {
           "color": "#2a3f5f"
          },
          "geo": {
           "bgcolor": "white",
           "lakecolor": "white",
           "landcolor": "#E5ECF6",
           "showlakes": true,
           "showland": true,
           "subunitcolor": "white"
          },
          "hoverlabel": {
           "align": "left"
          },
          "hovermode": "closest",
          "mapbox": {
           "style": "light"
          },
          "paper_bgcolor": "white",
          "plot_bgcolor": "#E5ECF6",
          "polar": {
           "angularaxis": {
            "gridcolor": "white",
            "linecolor": "white",
            "ticks": ""
           },
           "bgcolor": "#E5ECF6",
           "radialaxis": {
            "gridcolor": "white",
            "linecolor": "white",
            "ticks": ""
           }
          },
          "scene": {
           "xaxis": {
            "backgroundcolor": "#E5ECF6",
            "gridcolor": "white",
            "gridwidth": 2,
            "linecolor": "white",
            "showbackground": true,
            "ticks": "",
            "zerolinecolor": "white"
           },
           "yaxis": {
            "backgroundcolor": "#E5ECF6",
            "gridcolor": "white",
            "gridwidth": 2,
            "linecolor": "white",
            "showbackground": true,
            "ticks": "",
            "zerolinecolor": "white"
           },
           "zaxis": {
            "backgroundcolor": "#E5ECF6",
            "gridcolor": "white",
            "gridwidth": 2,
            "linecolor": "white",
            "showbackground": true,
            "ticks": "",
            "zerolinecolor": "white"
           }
          },
          "shapedefaults": {
           "line": {
            "color": "#2a3f5f"
           }
          },
          "ternary": {
           "aaxis": {
            "gridcolor": "white",
            "linecolor": "white",
            "ticks": ""
           },
           "baxis": {
            "gridcolor": "white",
            "linecolor": "white",
            "ticks": ""
           },
           "bgcolor": "#E5ECF6",
           "caxis": {
            "gridcolor": "white",
            "linecolor": "white",
            "ticks": ""
           }
          },
          "title": {
           "x": 0.05
          },
          "xaxis": {
           "automargin": true,
           "gridcolor": "white",
           "linecolor": "white",
           "ticks": "",
           "title": {
            "standoff": 15
           },
           "zerolinecolor": "white",
           "zerolinewidth": 2
          },
          "yaxis": {
           "automargin": true,
           "gridcolor": "white",
           "linecolor": "white",
           "ticks": "",
           "title": {
            "standoff": 15
           },
           "zerolinecolor": "white",
           "zerolinewidth": 2
          }
         }
        },
        "title": {
         "text": "Correlação das variávies"
        }
       }
      },
      "text/html": [
       "<div>\n",
       "        \n",
       "        \n",
       "            <div id=\"d65dcdc7-b49d-4c6d-b6ca-ddc623cfd0f7\" class=\"plotly-graph-div\" style=\"height:525px; width:100%;\"></div>\n",
       "            <script type=\"text/javascript\">\n",
       "                require([\"plotly\"], function(Plotly) {\n",
       "                    window.PLOTLYENV=window.PLOTLYENV || {};\n",
       "                    \n",
       "                if (document.getElementById(\"d65dcdc7-b49d-4c6d-b6ca-ddc623cfd0f7\")) {\n",
       "                    Plotly.newPlot(\n",
       "                        'd65dcdc7-b49d-4c6d-b6ca-ddc623cfd0f7',\n",
       "                        [{\"colorbar\": {\"title\": {\"text\": \"Pearson Coefficient\"}}, \"type\": \"heatmap\", \"x\": [\"Date\", \"avg_block_size\", \"cost_per_transaction_percent\", \"cost_per_transaction\", \"difficulty\", \"estimated_transaction_volume_usd\", \"hash_rate\", \"market_cap\", \"market_price_2\", \"miners_revenue\", \"n_transactions_excluding_popular\", \"n_transactions\", \"output_volume\", \"total_bitcoins\", \"transaction_fees\"], \"y\": [\"Date\", \"avg_block_size\", \"cost_per_transaction_percent\", \"cost_per_transaction\", \"difficulty\", \"estimated_transaction_volume_usd\", \"hash_rate\", \"market_cap\", \"market_price_2\", \"miners_revenue\", \"n_transactions_excluding_popular\", \"n_transactions\", \"output_volume\", \"total_bitcoins\", \"transaction_fees\"], \"z\": [[1.0, -0.05159719811000768, 0.5293937929109183, 0.6362400448819281, 0.661933264762577, 0.6264239312094403, 0.7020113767368132, 0.7023769156032319, 0.6651769845880537, 0.9714498177051587, 0.9728749975859173, 0.2592256522401916, 0.8530945987536961, 0.5159605875608606], [-0.05159719811000768, 1.0, -0.03866434470023296, -0.023244964752338112, -0.02529615671555396, -0.02317906268181057, -0.027505607921631738, -0.028072721480991478, -0.0285787800914859, -0.048560898529627826, -0.0510348354194372, -0.033656227178297304, -0.09123038496286108, -0.025884594958621564], [0.5293937929109183, -0.03866434470023296, 1.0, 0.5590566008084509, 0.738785036825618, 0.5699765965696159, 0.8570248342783622, 0.867885173554811, 0.8817675448562615, 0.4946017201498144, 0.5009313209594599, 0.033923232888563186, 0.5509749138364622, 0.4027267920847271], [0.6362400448819281, -0.023244964752338112, 0.5590566008084509, 1.0, 0.530863088764135, 0.9928809377443261, 0.7867551975826897, 0.7691273776711429, 0.6846504969173285, 0.6285571514797262, 0.6377978786870022, 0.022962322076146898, 0.5035526176227131, 0.07364120692515996], [0.661933264762577, -0.02529615671555396, 0.738785036825618, 0.530863088764135, 1.0, 0.5318137965915655, 0.876827259224985, 0.8843379750019592, 0.9118577535317087, 0.6611078317919471, 0.6701062600752222, 0.13835603249785713, 0.49278311623347365, 0.6822713307116106], [0.6264239312094403, -0.02317906268181057, 0.5699765965696159, 0.9928809377443261, 0.5318137965915655, 1.0, 0.7897500918785131, 0.7722868871962285, 0.6986489133290625, 0.6315574670515092, 0.6408806655346966, 0.020668746099118295, 0.5020014690587907, 0.0778101924096815], [0.7020113767368132, -0.027505607921631738, 0.8570248342783622, 0.7867551975826897, 0.876827259224985, 0.7897500918785131, 1.0, 0.9993790477261594, 0.9768173810746344, 0.6838760552640759, 0.6935480725714998, 0.08212687078444715, 0.5561334393254463, 0.47243190777931676], [0.7023769156032319, -0.028072721480991478, 0.867885173554811, 0.7691273776711429, 0.8843379750019592, 0.7722868871962285, 0.9993790477261594, 1.0, 0.9808813938803163, 0.6833733239466927, 0.6928049041428168, 0.08402779983975774, 0.5605327682102815, 0.48746492187894597], [0.6651769845880537, -0.0285787800914859, 0.8817675448562615, 0.6846504969173285, 0.9118577535317087, 0.6986489133290625, 0.9768173810746344, 0.9808813938803163, 1.0, 0.6663999044860663, 0.6760360459835086, 0.09109638925932168, 0.5454692501979176, 0.5643916231495333], [0.9714498177051587, -0.048560898529627826, 0.4946017201498144, 0.6285571514797262, 0.6611078317919471, 0.6315574670515092, 0.6838760552640759, 0.6833733239466927, 0.6663999044860663, 1.0, 0.9954437383803452, 0.2595743068497127, 0.8232519732060463, 0.5401497748636128], [0.9728749975859173, -0.0510348354194372, 0.5009313209594599, 0.6377978786870022, 0.6701062600752222, 0.6408806655346966, 0.6935480725714998, 0.6928049041428168, 0.6760360459835086, 0.9954437383803452, 1.0, 0.2705185246947696, 0.837837342240387, 0.5462813536768256], [0.2592256522401916, -0.033656227178297304, 0.033923232888563186, 0.022962322076146898, 0.13835603249785713, 0.020668746099118295, 0.08212687078444715, 0.08402779983975774, 0.09109638925932168, 0.2595743068497127, 0.2705185246947696, 1.0, 0.29916545461111166, 0.2154313534051086], [0.8530945987536961, -0.09123038496286108, 0.5509749138364622, 0.5035526176227131, 0.49278311623347365, 0.5020014690587907, 0.5561334393254463, 0.5605327682102815, 0.5454692501979176, 0.8232519732060463, 0.837837342240387, 0.29916545461111166, 1.0, 0.39469774251414746], [0.5159605875608606, -0.025884594958621564, 0.4027267920847271, 0.07364120692515996, 0.6822713307116106, 0.0778101924096815, 0.47243190777931676, 0.48746492187894597, 0.5643916231495333, 0.5401497748636128, 0.5462813536768256, 0.2154313534051086, 0.39469774251414746, 1.0]], \"zmax\": 1.0, \"zmin\": -1.0}],\n",
       "                        {\"template\": {\"data\": {\"bar\": [{\"error_x\": {\"color\": \"#2a3f5f\"}, \"error_y\": {\"color\": \"#2a3f5f\"}, \"marker\": {\"line\": {\"color\": \"#E5ECF6\", \"width\": 0.5}}, \"type\": \"bar\"}], \"barpolar\": [{\"marker\": {\"line\": {\"color\": \"#E5ECF6\", \"width\": 0.5}}, \"type\": \"barpolar\"}], \"carpet\": [{\"aaxis\": {\"endlinecolor\": \"#2a3f5f\", \"gridcolor\": \"white\", \"linecolor\": \"white\", \"minorgridcolor\": \"white\", \"startlinecolor\": \"#2a3f5f\"}, \"baxis\": {\"endlinecolor\": \"#2a3f5f\", \"gridcolor\": \"white\", \"linecolor\": \"white\", \"minorgridcolor\": \"white\", \"startlinecolor\": \"#2a3f5f\"}, \"type\": \"carpet\"}], \"choropleth\": [{\"colorbar\": {\"outlinewidth\": 0, \"ticks\": \"\"}, \"type\": \"choropleth\"}], \"contour\": [{\"colorbar\": {\"outlinewidth\": 0, \"ticks\": \"\"}, \"colorscale\": [[0.0, \"#0d0887\"], [0.1111111111111111, \"#46039f\"], [0.2222222222222222, \"#7201a8\"], [0.3333333333333333, \"#9c179e\"], [0.4444444444444444, \"#bd3786\"], [0.5555555555555556, \"#d8576b\"], [0.6666666666666666, \"#ed7953\"], [0.7777777777777778, \"#fb9f3a\"], [0.8888888888888888, \"#fdca26\"], [1.0, \"#f0f921\"]], \"type\": \"contour\"}], \"contourcarpet\": [{\"colorbar\": {\"outlinewidth\": 0, \"ticks\": \"\"}, \"type\": \"contourcarpet\"}], \"heatmap\": [{\"colorbar\": {\"outlinewidth\": 0, \"ticks\": \"\"}, \"colorscale\": [[0.0, \"#0d0887\"], [0.1111111111111111, \"#46039f\"], [0.2222222222222222, \"#7201a8\"], [0.3333333333333333, \"#9c179e\"], [0.4444444444444444, \"#bd3786\"], [0.5555555555555556, \"#d8576b\"], [0.6666666666666666, \"#ed7953\"], [0.7777777777777778, \"#fb9f3a\"], [0.8888888888888888, \"#fdca26\"], [1.0, \"#f0f921\"]], \"type\": \"heatmap\"}], \"heatmapgl\": [{\"colorbar\": {\"outlinewidth\": 0, \"ticks\": \"\"}, \"colorscale\": [[0.0, \"#0d0887\"], [0.1111111111111111, \"#46039f\"], [0.2222222222222222, \"#7201a8\"], [0.3333333333333333, \"#9c179e\"], [0.4444444444444444, \"#bd3786\"], [0.5555555555555556, \"#d8576b\"], [0.6666666666666666, \"#ed7953\"], [0.7777777777777778, \"#fb9f3a\"], [0.8888888888888888, \"#fdca26\"], [1.0, \"#f0f921\"]], \"type\": \"heatmapgl\"}], \"histogram\": [{\"marker\": {\"colorbar\": {\"outlinewidth\": 0, \"ticks\": \"\"}}, \"type\": \"histogram\"}], \"histogram2d\": [{\"colorbar\": {\"outlinewidth\": 0, \"ticks\": \"\"}, \"colorscale\": [[0.0, \"#0d0887\"], [0.1111111111111111, \"#46039f\"], [0.2222222222222222, \"#7201a8\"], [0.3333333333333333, \"#9c179e\"], [0.4444444444444444, \"#bd3786\"], [0.5555555555555556, \"#d8576b\"], [0.6666666666666666, \"#ed7953\"], [0.7777777777777778, \"#fb9f3a\"], [0.8888888888888888, \"#fdca26\"], [1.0, \"#f0f921\"]], \"type\": \"histogram2d\"}], \"histogram2dcontour\": [{\"colorbar\": {\"outlinewidth\": 0, \"ticks\": \"\"}, \"colorscale\": [[0.0, \"#0d0887\"], [0.1111111111111111, \"#46039f\"], [0.2222222222222222, \"#7201a8\"], [0.3333333333333333, \"#9c179e\"], [0.4444444444444444, \"#bd3786\"], [0.5555555555555556, \"#d8576b\"], [0.6666666666666666, \"#ed7953\"], [0.7777777777777778, \"#fb9f3a\"], [0.8888888888888888, \"#fdca26\"], [1.0, \"#f0f921\"]], \"type\": \"histogram2dcontour\"}], \"mesh3d\": [{\"colorbar\": {\"outlinewidth\": 0, \"ticks\": \"\"}, \"type\": \"mesh3d\"}], \"parcoords\": [{\"line\": {\"colorbar\": {\"outlinewidth\": 0, \"ticks\": \"\"}}, \"type\": \"parcoords\"}], \"pie\": [{\"automargin\": true, \"type\": \"pie\"}], \"scatter\": [{\"marker\": {\"colorbar\": {\"outlinewidth\": 0, \"ticks\": \"\"}}, \"type\": \"scatter\"}], \"scatter3d\": [{\"line\": {\"colorbar\": {\"outlinewidth\": 0, \"ticks\": \"\"}}, \"marker\": {\"colorbar\": {\"outlinewidth\": 0, \"ticks\": \"\"}}, \"type\": \"scatter3d\"}], \"scattercarpet\": [{\"marker\": {\"colorbar\": {\"outlinewidth\": 0, \"ticks\": \"\"}}, \"type\": \"scattercarpet\"}], \"scattergeo\": [{\"marker\": {\"colorbar\": {\"outlinewidth\": 0, \"ticks\": \"\"}}, \"type\": \"scattergeo\"}], \"scattergl\": [{\"marker\": {\"colorbar\": {\"outlinewidth\": 0, \"ticks\": \"\"}}, \"type\": \"scattergl\"}], \"scattermapbox\": [{\"marker\": {\"colorbar\": {\"outlinewidth\": 0, \"ticks\": \"\"}}, \"type\": \"scattermapbox\"}], \"scatterpolar\": [{\"marker\": {\"colorbar\": {\"outlinewidth\": 0, \"ticks\": \"\"}}, \"type\": \"scatterpolar\"}], \"scatterpolargl\": [{\"marker\": {\"colorbar\": {\"outlinewidth\": 0, \"ticks\": \"\"}}, \"type\": \"scatterpolargl\"}], \"scatterternary\": [{\"marker\": {\"colorbar\": {\"outlinewidth\": 0, \"ticks\": \"\"}}, \"type\": \"scatterternary\"}], \"surface\": [{\"colorbar\": {\"outlinewidth\": 0, \"ticks\": \"\"}, \"colorscale\": [[0.0, \"#0d0887\"], [0.1111111111111111, \"#46039f\"], [0.2222222222222222, \"#7201a8\"], [0.3333333333333333, \"#9c179e\"], [0.4444444444444444, \"#bd3786\"], [0.5555555555555556, \"#d8576b\"], [0.6666666666666666, \"#ed7953\"], [0.7777777777777778, \"#fb9f3a\"], [0.8888888888888888, \"#fdca26\"], [1.0, \"#f0f921\"]], \"type\": \"surface\"}], \"table\": [{\"cells\": {\"fill\": {\"color\": \"#EBF0F8\"}, \"line\": {\"color\": \"white\"}}, \"header\": {\"fill\": {\"color\": \"#C8D4E3\"}, \"line\": {\"color\": \"white\"}}, \"type\": \"table\"}]}, \"layout\": {\"annotationdefaults\": {\"arrowcolor\": \"#2a3f5f\", \"arrowhead\": 0, \"arrowwidth\": 1}, \"coloraxis\": {\"colorbar\": {\"outlinewidth\": 0, \"ticks\": \"\"}}, \"colorscale\": {\"diverging\": [[0, \"#8e0152\"], [0.1, \"#c51b7d\"], [0.2, \"#de77ae\"], [0.3, \"#f1b6da\"], [0.4, \"#fde0ef\"], [0.5, \"#f7f7f7\"], [0.6, \"#e6f5d0\"], [0.7, \"#b8e186\"], [0.8, \"#7fbc41\"], [0.9, \"#4d9221\"], [1, \"#276419\"]], \"sequential\": [[0.0, \"#0d0887\"], [0.1111111111111111, \"#46039f\"], [0.2222222222222222, \"#7201a8\"], [0.3333333333333333, \"#9c179e\"], [0.4444444444444444, \"#bd3786\"], [0.5555555555555556, \"#d8576b\"], [0.6666666666666666, \"#ed7953\"], [0.7777777777777778, \"#fb9f3a\"], [0.8888888888888888, \"#fdca26\"], [1.0, \"#f0f921\"]], \"sequentialminus\": [[0.0, \"#0d0887\"], [0.1111111111111111, \"#46039f\"], [0.2222222222222222, \"#7201a8\"], [0.3333333333333333, \"#9c179e\"], [0.4444444444444444, \"#bd3786\"], [0.5555555555555556, \"#d8576b\"], [0.6666666666666666, \"#ed7953\"], [0.7777777777777778, \"#fb9f3a\"], [0.8888888888888888, \"#fdca26\"], [1.0, \"#f0f921\"]]}, \"colorway\": [\"#636efa\", \"#EF553B\", \"#00cc96\", \"#ab63fa\", \"#FFA15A\", \"#19d3f3\", \"#FF6692\", \"#B6E880\", \"#FF97FF\", \"#FECB52\"], \"font\": {\"color\": \"#2a3f5f\"}, \"geo\": {\"bgcolor\": \"white\", \"lakecolor\": \"white\", \"landcolor\": \"#E5ECF6\", \"showlakes\": true, \"showland\": true, \"subunitcolor\": \"white\"}, \"hoverlabel\": {\"align\": \"left\"}, \"hovermode\": \"closest\", \"mapbox\": {\"style\": \"light\"}, \"paper_bgcolor\": \"white\", \"plot_bgcolor\": \"#E5ECF6\", \"polar\": {\"angularaxis\": {\"gridcolor\": \"white\", \"linecolor\": \"white\", \"ticks\": \"\"}, \"bgcolor\": \"#E5ECF6\", \"radialaxis\": {\"gridcolor\": \"white\", \"linecolor\": \"white\", \"ticks\": \"\"}}, \"scene\": {\"xaxis\": {\"backgroundcolor\": \"#E5ECF6\", \"gridcolor\": \"white\", \"gridwidth\": 2, \"linecolor\": \"white\", \"showbackground\": true, \"ticks\": \"\", \"zerolinecolor\": \"white\"}, \"yaxis\": {\"backgroundcolor\": \"#E5ECF6\", \"gridcolor\": \"white\", \"gridwidth\": 2, \"linecolor\": \"white\", \"showbackground\": true, \"ticks\": \"\", \"zerolinecolor\": \"white\"}, \"zaxis\": {\"backgroundcolor\": \"#E5ECF6\", \"gridcolor\": \"white\", \"gridwidth\": 2, \"linecolor\": \"white\", \"showbackground\": true, \"ticks\": \"\", \"zerolinecolor\": \"white\"}}, \"shapedefaults\": {\"line\": {\"color\": \"#2a3f5f\"}}, \"ternary\": {\"aaxis\": {\"gridcolor\": \"white\", \"linecolor\": \"white\", \"ticks\": \"\"}, \"baxis\": {\"gridcolor\": \"white\", \"linecolor\": \"white\", \"ticks\": \"\"}, \"bgcolor\": \"#E5ECF6\", \"caxis\": {\"gridcolor\": \"white\", \"linecolor\": \"white\", \"ticks\": \"\"}}, \"title\": {\"x\": 0.05}, \"xaxis\": {\"automargin\": true, \"gridcolor\": \"white\", \"linecolor\": \"white\", \"ticks\": \"\", \"title\": {\"standoff\": 15}, \"zerolinecolor\": \"white\", \"zerolinewidth\": 2}, \"yaxis\": {\"automargin\": true, \"gridcolor\": \"white\", \"linecolor\": \"white\", \"ticks\": \"\", \"title\": {\"standoff\": 15}, \"zerolinecolor\": \"white\", \"zerolinewidth\": 2}}}, \"title\": {\"text\": \"Correla\\u00e7\\u00e3o das vari\\u00e1vies\"}},\n",
       "                        {\"responsive\": true}\n",
       "                    ).then(function(){\n",
       "                            \n",
       "var gd = document.getElementById('d65dcdc7-b49d-4c6d-b6ca-ddc623cfd0f7');\n",
       "var x = new MutationObserver(function (mutations, observer) {{\n",
       "        var display = window.getComputedStyle(gd).display;\n",
       "        if (!display || display === 'none') {{\n",
       "            console.log([gd, 'removed!']);\n",
       "            Plotly.purge(gd);\n",
       "            observer.disconnect();\n",
       "        }}\n",
       "}});\n",
       "\n",
       "// Listen for the removal of the full notebook cells\n",
       "var notebookContainer = gd.closest('#notebook-container');\n",
       "if (notebookContainer) {{\n",
       "    x.observe(notebookContainer, {childList: true});\n",
       "}}\n",
       "\n",
       "// Listen for the clearing of the current output cell\n",
       "var outputEl = gd.closest('.output');\n",
       "if (outputEl) {{\n",
       "    x.observe(outputEl, {childList: true});\n",
       "}}\n",
       "\n",
       "                        })\n",
       "                };\n",
       "                });\n",
       "            </script>\n",
       "        </div>"
      ]
     },
     "metadata": {},
     "output_type": "display_data"
    }
   ],
   "source": [
    "def correlation_heatmap(df, title, absolute_bounds=True):\n",
    "    '''Plot a correlation heatmap for the entire dataframe'''\n",
    "    heatmap = go.Heatmap(\n",
    "        z=df.corr(method='pearson').values,\n",
    "        x=df.columns,\n",
    "        y=df.columns,\n",
    "        colorbar=dict(title='Pearson Coefficient'),\n",
    "    )\n",
    "    \n",
    "    layout = go.Layout(title=title)\n",
    "    \n",
    "    if absolute_bounds:\n",
    "        heatmap['zmax'] = 1.0\n",
    "        heatmap['zmin'] = -1.0\n",
    "        \n",
    "    fig = go.Figure(data=[heatmap], layout=layout)\n",
    "    py.iplot(fig)\n",
    "    \n",
    "correlation_heatmap(dfs, 'Correlação das variávies')"
   ]
  },
  {
   "cell_type": "code",
   "execution_count": null,
   "metadata": {},
   "outputs": [],
   "source": []
  },
  {
   "cell_type": "code",
   "execution_count": null,
   "metadata": {},
   "outputs": [],
   "source": []
  }
 ],
 "metadata": {
  "kernelspec": {
   "display_name": "Python 3",
   "language": "python",
   "name": "python3"
  },
  "language_info": {
   "codemirror_mode": {
    "name": "ipython",
    "version": 3
   },
   "file_extension": ".py",
   "mimetype": "text/x-python",
   "name": "python",
   "nbconvert_exporter": "python",
   "pygments_lexer": "ipython3",
   "version": "3.7.1"
  }
 },
 "nbformat": 4,
 "nbformat_minor": 2
}
