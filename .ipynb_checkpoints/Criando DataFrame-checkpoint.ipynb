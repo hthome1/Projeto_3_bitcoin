{
 "cells": [
  {
   "cell_type": "code",
   "execution_count": 1,
   "metadata": {},
   "outputs": [],
   "source": [
    "import glob\n",
    "import glob, os\n",
    "import pandas as pd\n",
    "from functools import reduce"
   ]
  },
  {
   "cell_type": "code",
   "execution_count": 2,
   "metadata": {},
   "outputs": [],
   "source": [
    "nomes = ['avg_block_size','cost_per_transaction_percent','cost_per_transaction','difficulty','estimated_transaction_volume_usd','hash_rate','market_cap','market_price_2','mempool_size','miners_revenue','n_transactions_excluding_chains_longer_than_100','n_transactions_excluding_popular','n_transactions','n_unique_addresses','output_volume','total_bitcoins','trade_volume','transaction_fees']\n",
    "dicionario={}"
   ]
  },
  {
   "cell_type": "code",
   "execution_count": 3,
   "metadata": {},
   "outputs": [],
   "source": [
    "path = r'/Users/h.t/Desktop/Projeto_3_bitcoin'\n",
    "all_files = glob.glob(os.path.join(path, \"*.csv\"))\n",
    "for f in range(0,len(all_files)):\n",
    "    dicionario[nomes[f]]=pd.read_csv(all_files[f],header = None)\n",
    "    dicionario[nomes[f]].columns = ['Date', nomes[f]]"
   ]
  },
  {
   "cell_type": "code",
   "execution_count": 4,
   "metadata": {},
   "outputs": [],
   "source": [
    "for e in dicionario:\n",
    "    dicionario[e].set_index('Date', inplace = True)"
   ]
  },
  {
   "cell_type": "code",
   "execution_count": 25,
   "metadata": {},
   "outputs": [
    {
     "data": {
      "text/plain": [
       "['avg_block_size',\n",
       " 'cost_per_transaction_percent',\n",
       " 'cost_per_transaction',\n",
       " 'difficulty',\n",
       " 'estimated_transaction_volume_usd',\n",
       " 'hash_rate',\n",
       " 'market_cap',\n",
       " 'market_price_2',\n",
       " 'miners_revenue',\n",
       " 'n_transactions_excluding_popular',\n",
       " 'n_transactions',\n",
       " 'output_volume',\n",
       " 'total_bitcoins',\n",
       " 'transaction_fees']"
      ]
     },
     "execution_count": 25,
     "metadata": {},
     "output_type": "execute_result"
    }
   ],
   "source": [
    "lista_final = []\n",
    "for e in dicionario:\n",
    "    if len(dicionario[e]) == 1320:\n",
    "        lista_final.append(e)\n",
    "lista_final"
   ]
  },
  {
   "cell_type": "code",
   "execution_count": 42,
   "metadata": {},
   "outputs": [],
   "source": [
    "dataframe_final= None\n",
    "for f in range(1,len(lista_final),1):\n",
    "    if f==1:\n",
    "        dataframe_final = dicionario['avg_block_size'].join(dicionario[lista_final[f]], how=\"inner\")\n",
    "    else:\n",
    "        dataframe_final=dataframe_final.join(dicionario[lista_final[f]],how=\"inner\")"
   ]
  },
  {
   "cell_type": "code",
   "execution_count": 44,
   "metadata": {},
   "outputs": [],
   "source": [
    "dataframe_final.to_excel('DataFrame_bitcoin.xlsx', engine='xlsxwriter') "
   ]
  },
  {
   "cell_type": "code",
   "execution_count": null,
   "metadata": {},
   "outputs": [],
   "source": []
  }
 ],
 "metadata": {
  "kernelspec": {
   "display_name": "Python 3",
   "language": "python",
   "name": "python3"
  },
  "language_info": {
   "codemirror_mode": {
    "name": "ipython",
    "version": 3
   },
   "file_extension": ".py",
   "mimetype": "text/x-python",
   "name": "python",
   "nbconvert_exporter": "python",
   "pygments_lexer": "ipython3",
   "version": "3.6.4"
  }
 },
 "nbformat": 4,
 "nbformat_minor": 2
}
