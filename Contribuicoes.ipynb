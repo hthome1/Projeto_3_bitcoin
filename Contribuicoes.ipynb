{
 "cells": [
  {
   "cell_type": "markdown",
   "metadata": {},
   "source": [
    "# Contribuições"
   ]
  },
  {
   "cell_type": "markdown",
   "metadata": {},
   "source": [
    "### Omar"
   ]
  },
  {
   "cell_type": "markdown",
   "metadata": {},
   "source": [
    "#..Bibliografia\n",
    "#..Calculo do RMS\n",
    "#..Random Forrest\n",
    "#..Decision Tree Regressor + Base De Treinamento\n",
    "#..Correcao Textos\n",
    "#..Atualizacao Scatters"
   ]
  },
  {
   "cell_type": "markdown",
   "metadata": {},
   "source": [
    "### Henrique"
   ]
  },
  {
   "cell_type": "markdown",
   "metadata": {},
   "source": [
    "#..Update ReadMe.txt\n",
    "#..Renomeando arquivo\n",
    "#..Introducao, analise da analise exploratoria e organizacao do codigo\n",
    "#..Criacao do dataframe\n",
    "#..Regressao com 10 dias passados + analise do valor p"
   ]
  },
  {
   "cell_type": "markdown",
   "metadata": {},
   "source": [
    "### Nevton"
   ]
  },
  {
   "cell_type": "markdown",
   "metadata": {},
   "source": [
    "#..Resolucao de conflitos no codigo\n",
    "#..Explicacao das analises\n",
    "#..Correcao de texto\n",
    "#..Criacao dos arquivos\n",
    "#..Busca de dados"
   ]
  },
  {
   "cell_type": "code",
   "execution_count": null,
   "metadata": {},
   "outputs": [],
   "source": []
  }
 ],
 "metadata": {
  "kernelspec": {
   "display_name": "Python 3",
   "language": "python",
   "name": "python3"
  },
  "language_info": {
   "codemirror_mode": {
    "name": "ipython",
    "version": 3
   },
   "file_extension": ".py",
   "mimetype": "text/x-python",
   "name": "python",
   "nbconvert_exporter": "python",
   "pygments_lexer": "ipython3",
   "version": "3.7.1"
  }
 },
 "nbformat": 4,
 "nbformat_minor": 2
}
