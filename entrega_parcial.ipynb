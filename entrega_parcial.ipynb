{
 "cells": [
  {
   "cell_type": "markdown",
   "metadata": {},
   "source": [
    "# Bitcoin Price Prediction"
   ]
  },
  {
   "cell_type": "markdown",
   "metadata": {},
   "source": [
    "### Introdução<br>\n",
    "\n",
    "#### O objetivo desse projeto e prever futuros valores para o Bitcoin seguindo principalmente os valores das seguintes variaveis de instantes anteriores. As quais foram escolhidas por possuirem uma alta correlacao com o \"market_price_2\", que é a nossa variavel de interesse<br>\n",
    "\n",
    "-cost_per_transaction_percent<br>\n",
    "-difficulty<br>\n",
    "-hash_rate<br>"
   ]
  },
  {
   "cell_type": "code",
   "execution_count": 13,
   "metadata": {},
   "outputs": [],
   "source": [
    "import pandas as pd\n",
    "import plotly.offline as py\n",
    "import plotly.graph_objs as go\n",
    "import plotly.figure_factory as ff\n",
    "import statsmodels.api as sm\n",
    "import matplotlib.pyplot as plt"
   ]
  },
  {
   "cell_type": "code",
   "execution_count": 14,
   "metadata": {},
   "outputs": [],
   "source": [
    "dfs = pd.read_excel('DataFrame_bitcoin.xlsx')"
   ]
  },
  {
   "cell_type": "code",
   "execution_count": 15,
   "metadata": {},
   "outputs": [
    {
     "data": {
      "text/html": [
       "<div>\n",
       "<style scoped>\n",
       "    .dataframe tbody tr th:only-of-type {\n",
       "        vertical-align: middle;\n",
       "    }\n",
       "\n",
       "    .dataframe tbody tr th {\n",
       "        vertical-align: top;\n",
       "    }\n",
       "\n",
       "    .dataframe thead th {\n",
       "        text-align: right;\n",
       "    }\n",
       "</style>\n",
       "<table border=\"1\" class=\"dataframe\">\n",
       "  <thead>\n",
       "    <tr style=\"text-align: right;\">\n",
       "      <th></th>\n",
       "      <th>Date</th>\n",
       "      <th>avg_block_size</th>\n",
       "      <th>cost_per_transaction_percent</th>\n",
       "      <th>cost_per_transaction</th>\n",
       "      <th>difficulty</th>\n",
       "      <th>estimated_transaction_volume_usd</th>\n",
       "      <th>hash_rate</th>\n",
       "      <th>market_cap</th>\n",
       "      <th>market_price_2</th>\n",
       "      <th>miners_revenue</th>\n",
       "      <th>n_transactions_excluding_popular</th>\n",
       "      <th>n_transactions</th>\n",
       "      <th>output_volume</th>\n",
       "      <th>total_bitcoins</th>\n",
       "      <th>transaction_fees</th>\n",
       "    </tr>\n",
       "  </thead>\n",
       "  <tbody>\n",
       "    <tr>\n",
       "      <td>0</td>\n",
       "      <td>2009-01-03 00:00:00</td>\n",
       "      <td>0.000285</td>\n",
       "      <td>0.000000</td>\n",
       "      <td>0.0</td>\n",
       "      <td>1.0</td>\n",
       "      <td>0.0</td>\n",
       "      <td>4.971027e-08</td>\n",
       "      <td>0.0</td>\n",
       "      <td>0.0</td>\n",
       "      <td>0.0</td>\n",
       "      <td>1</td>\n",
       "      <td>1</td>\n",
       "      <td>50.0</td>\n",
       "      <td>50.0</td>\n",
       "      <td>0.0</td>\n",
       "    </tr>\n",
       "    <tr>\n",
       "      <td>1</td>\n",
       "      <td>2009-01-06 00:00:00</td>\n",
       "      <td>0.000000</td>\n",
       "      <td>0.000000</td>\n",
       "      <td>0.0</td>\n",
       "      <td>0.0</td>\n",
       "      <td>0.0</td>\n",
       "      <td>0.000000e+00</td>\n",
       "      <td>0.0</td>\n",
       "      <td>0.0</td>\n",
       "      <td>0.0</td>\n",
       "      <td>0</td>\n",
       "      <td>0</td>\n",
       "      <td>0.0</td>\n",
       "      <td>50.0</td>\n",
       "      <td>0.0</td>\n",
       "    </tr>\n",
       "    <tr>\n",
       "      <td>2</td>\n",
       "      <td>2009-01-09 00:00:00</td>\n",
       "      <td>0.000215</td>\n",
       "      <td>0.000000</td>\n",
       "      <td>0.0</td>\n",
       "      <td>1.0</td>\n",
       "      <td>0.0</td>\n",
       "      <td>6.959438e-07</td>\n",
       "      <td>0.0</td>\n",
       "      <td>0.0</td>\n",
       "      <td>0.0</td>\n",
       "      <td>14</td>\n",
       "      <td>14</td>\n",
       "      <td>700.0</td>\n",
       "      <td>750.0</td>\n",
       "      <td>0.0</td>\n",
       "    </tr>\n",
       "    <tr>\n",
       "      <td>3</td>\n",
       "      <td>2009-01-12 00:00:00</td>\n",
       "      <td>0.000232</td>\n",
       "      <td>18541.666667</td>\n",
       "      <td>0.0</td>\n",
       "      <td>1.0</td>\n",
       "      <td>0.0</td>\n",
       "      <td>4.424214e-06</td>\n",
       "      <td>0.0</td>\n",
       "      <td>0.0</td>\n",
       "      <td>0.0</td>\n",
       "      <td>95</td>\n",
       "      <td>95</td>\n",
       "      <td>4601.0</td>\n",
       "      <td>12050.0</td>\n",
       "      <td>0.0</td>\n",
       "    </tr>\n",
       "    <tr>\n",
       "      <td>4</td>\n",
       "      <td>2009-01-15 00:00:00</td>\n",
       "      <td>0.000242</td>\n",
       "      <td>1533.816425</td>\n",
       "      <td>0.0</td>\n",
       "      <td>1.0</td>\n",
       "      <td>0.0</td>\n",
       "      <td>6.313204e-06</td>\n",
       "      <td>0.0</td>\n",
       "      <td>0.0</td>\n",
       "      <td>0.0</td>\n",
       "      <td>136</td>\n",
       "      <td>136</td>\n",
       "      <td>6911.0</td>\n",
       "      <td>30450.0</td>\n",
       "      <td>0.0</td>\n",
       "    </tr>\n",
       "  </tbody>\n",
       "</table>\n",
       "</div>"
      ],
      "text/plain": [
       "                  Date  avg_block_size  cost_per_transaction_percent  \\\n",
       "0  2009-01-03 00:00:00        0.000285                      0.000000   \n",
       "1  2009-01-06 00:00:00        0.000000                      0.000000   \n",
       "2  2009-01-09 00:00:00        0.000215                      0.000000   \n",
       "3  2009-01-12 00:00:00        0.000232                  18541.666667   \n",
       "4  2009-01-15 00:00:00        0.000242                   1533.816425   \n",
       "\n",
       "   cost_per_transaction  difficulty  estimated_transaction_volume_usd  \\\n",
       "0                   0.0         1.0                               0.0   \n",
       "1                   0.0         0.0                               0.0   \n",
       "2                   0.0         1.0                               0.0   \n",
       "3                   0.0         1.0                               0.0   \n",
       "4                   0.0         1.0                               0.0   \n",
       "\n",
       "      hash_rate  market_cap  market_price_2  miners_revenue  \\\n",
       "0  4.971027e-08         0.0             0.0             0.0   \n",
       "1  0.000000e+00         0.0             0.0             0.0   \n",
       "2  6.959438e-07         0.0             0.0             0.0   \n",
       "3  4.424214e-06         0.0             0.0             0.0   \n",
       "4  6.313204e-06         0.0             0.0             0.0   \n",
       "\n",
       "   n_transactions_excluding_popular  n_transactions  output_volume  \\\n",
       "0                                 1               1           50.0   \n",
       "1                                 0               0            0.0   \n",
       "2                                14              14          700.0   \n",
       "3                                95              95         4601.0   \n",
       "4                               136             136         6911.0   \n",
       "\n",
       "   total_bitcoins  transaction_fees  \n",
       "0            50.0               0.0  \n",
       "1            50.0               0.0  \n",
       "2           750.0               0.0  \n",
       "3         12050.0               0.0  \n",
       "4         30450.0               0.0  "
      ]
     },
     "execution_count": 15,
     "metadata": {},
     "output_type": "execute_result"
    }
   ],
   "source": [
    "dfs.head()"
   ]
  },
  {
   "cell_type": "markdown",
   "metadata": {},
   "source": [
    "### Análise exploratória"
   ]
  },
  {
   "cell_type": "code",
   "execution_count": 16,
   "metadata": {},
   "outputs": [
    {
     "data": {
      "text/html": [
       "<div>\n",
       "<style scoped>\n",
       "    .dataframe tbody tr th:only-of-type {\n",
       "        vertical-align: middle;\n",
       "    }\n",
       "\n",
       "    .dataframe tbody tr th {\n",
       "        vertical-align: top;\n",
       "    }\n",
       "\n",
       "    .dataframe thead th {\n",
       "        text-align: right;\n",
       "    }\n",
       "</style>\n",
       "<table border=\"1\" class=\"dataframe\">\n",
       "  <thead>\n",
       "    <tr style=\"text-align: right;\">\n",
       "      <th></th>\n",
       "      <th>avg_block_size</th>\n",
       "      <th>cost_per_transaction_percent</th>\n",
       "      <th>cost_per_transaction</th>\n",
       "      <th>difficulty</th>\n",
       "      <th>estimated_transaction_volume_usd</th>\n",
       "      <th>hash_rate</th>\n",
       "      <th>market_cap</th>\n",
       "      <th>market_price_2</th>\n",
       "      <th>miners_revenue</th>\n",
       "      <th>n_transactions_excluding_popular</th>\n",
       "      <th>n_transactions</th>\n",
       "      <th>output_volume</th>\n",
       "      <th>total_bitcoins</th>\n",
       "      <th>transaction_fees</th>\n",
       "    </tr>\n",
       "  </thead>\n",
       "  <tbody>\n",
       "    <tr>\n",
       "      <td>avg_block_size</td>\n",
       "      <td>1.000000</td>\n",
       "      <td>-0.051597</td>\n",
       "      <td>0.529394</td>\n",
       "      <td>0.636240</td>\n",
       "      <td>0.661933</td>\n",
       "      <td>0.626424</td>\n",
       "      <td>0.702011</td>\n",
       "      <td>0.702377</td>\n",
       "      <td>0.665177</td>\n",
       "      <td>0.971450</td>\n",
       "      <td>0.972875</td>\n",
       "      <td>0.259226</td>\n",
       "      <td>0.853095</td>\n",
       "      <td>0.515961</td>\n",
       "    </tr>\n",
       "    <tr>\n",
       "      <td>cost_per_transaction_percent</td>\n",
       "      <td>-0.051597</td>\n",
       "      <td>1.000000</td>\n",
       "      <td>-0.038664</td>\n",
       "      <td>-0.023245</td>\n",
       "      <td>-0.025296</td>\n",
       "      <td>-0.023179</td>\n",
       "      <td>-0.027506</td>\n",
       "      <td>-0.028073</td>\n",
       "      <td>-0.028579</td>\n",
       "      <td>-0.048561</td>\n",
       "      <td>-0.051035</td>\n",
       "      <td>-0.033656</td>\n",
       "      <td>-0.091230</td>\n",
       "      <td>-0.025885</td>\n",
       "    </tr>\n",
       "    <tr>\n",
       "      <td>cost_per_transaction</td>\n",
       "      <td>0.529394</td>\n",
       "      <td>-0.038664</td>\n",
       "      <td>1.000000</td>\n",
       "      <td>0.559057</td>\n",
       "      <td>0.738785</td>\n",
       "      <td>0.569977</td>\n",
       "      <td>0.857025</td>\n",
       "      <td>0.867885</td>\n",
       "      <td>0.881768</td>\n",
       "      <td>0.494602</td>\n",
       "      <td>0.500931</td>\n",
       "      <td>0.033923</td>\n",
       "      <td>0.550975</td>\n",
       "      <td>0.402727</td>\n",
       "    </tr>\n",
       "    <tr>\n",
       "      <td>difficulty</td>\n",
       "      <td>0.636240</td>\n",
       "      <td>-0.023245</td>\n",
       "      <td>0.559057</td>\n",
       "      <td>1.000000</td>\n",
       "      <td>0.530863</td>\n",
       "      <td>0.992881</td>\n",
       "      <td>0.786755</td>\n",
       "      <td>0.769127</td>\n",
       "      <td>0.684650</td>\n",
       "      <td>0.628557</td>\n",
       "      <td>0.637798</td>\n",
       "      <td>0.022962</td>\n",
       "      <td>0.503553</td>\n",
       "      <td>0.073641</td>\n",
       "    </tr>\n",
       "    <tr>\n",
       "      <td>estimated_transaction_volume_usd</td>\n",
       "      <td>0.661933</td>\n",
       "      <td>-0.025296</td>\n",
       "      <td>0.738785</td>\n",
       "      <td>0.530863</td>\n",
       "      <td>1.000000</td>\n",
       "      <td>0.531814</td>\n",
       "      <td>0.876827</td>\n",
       "      <td>0.884338</td>\n",
       "      <td>0.911858</td>\n",
       "      <td>0.661108</td>\n",
       "      <td>0.670106</td>\n",
       "      <td>0.138356</td>\n",
       "      <td>0.492783</td>\n",
       "      <td>0.682271</td>\n",
       "    </tr>\n",
       "    <tr>\n",
       "      <td>hash_rate</td>\n",
       "      <td>0.626424</td>\n",
       "      <td>-0.023179</td>\n",
       "      <td>0.569977</td>\n",
       "      <td>0.992881</td>\n",
       "      <td>0.531814</td>\n",
       "      <td>1.000000</td>\n",
       "      <td>0.789750</td>\n",
       "      <td>0.772287</td>\n",
       "      <td>0.698649</td>\n",
       "      <td>0.631557</td>\n",
       "      <td>0.640881</td>\n",
       "      <td>0.020669</td>\n",
       "      <td>0.502001</td>\n",
       "      <td>0.077810</td>\n",
       "    </tr>\n",
       "    <tr>\n",
       "      <td>market_cap</td>\n",
       "      <td>0.702011</td>\n",
       "      <td>-0.027506</td>\n",
       "      <td>0.857025</td>\n",
       "      <td>0.786755</td>\n",
       "      <td>0.876827</td>\n",
       "      <td>0.789750</td>\n",
       "      <td>1.000000</td>\n",
       "      <td>0.999379</td>\n",
       "      <td>0.976817</td>\n",
       "      <td>0.683876</td>\n",
       "      <td>0.693548</td>\n",
       "      <td>0.082127</td>\n",
       "      <td>0.556133</td>\n",
       "      <td>0.472432</td>\n",
       "    </tr>\n",
       "    <tr>\n",
       "      <td>market_price_2</td>\n",
       "      <td>0.702377</td>\n",
       "      <td>-0.028073</td>\n",
       "      <td>0.867885</td>\n",
       "      <td>0.769127</td>\n",
       "      <td>0.884338</td>\n",
       "      <td>0.772287</td>\n",
       "      <td>0.999379</td>\n",
       "      <td>1.000000</td>\n",
       "      <td>0.980881</td>\n",
       "      <td>0.683373</td>\n",
       "      <td>0.692805</td>\n",
       "      <td>0.084028</td>\n",
       "      <td>0.560533</td>\n",
       "      <td>0.487465</td>\n",
       "    </tr>\n",
       "    <tr>\n",
       "      <td>miners_revenue</td>\n",
       "      <td>0.665177</td>\n",
       "      <td>-0.028579</td>\n",
       "      <td>0.881768</td>\n",
       "      <td>0.684650</td>\n",
       "      <td>0.911858</td>\n",
       "      <td>0.698649</td>\n",
       "      <td>0.976817</td>\n",
       "      <td>0.980881</td>\n",
       "      <td>1.000000</td>\n",
       "      <td>0.666400</td>\n",
       "      <td>0.676036</td>\n",
       "      <td>0.091096</td>\n",
       "      <td>0.545469</td>\n",
       "      <td>0.564392</td>\n",
       "    </tr>\n",
       "    <tr>\n",
       "      <td>n_transactions_excluding_popular</td>\n",
       "      <td>0.971450</td>\n",
       "      <td>-0.048561</td>\n",
       "      <td>0.494602</td>\n",
       "      <td>0.628557</td>\n",
       "      <td>0.661108</td>\n",
       "      <td>0.631557</td>\n",
       "      <td>0.683876</td>\n",
       "      <td>0.683373</td>\n",
       "      <td>0.666400</td>\n",
       "      <td>1.000000</td>\n",
       "      <td>0.995444</td>\n",
       "      <td>0.259574</td>\n",
       "      <td>0.823252</td>\n",
       "      <td>0.540150</td>\n",
       "    </tr>\n",
       "    <tr>\n",
       "      <td>n_transactions</td>\n",
       "      <td>0.972875</td>\n",
       "      <td>-0.051035</td>\n",
       "      <td>0.500931</td>\n",
       "      <td>0.637798</td>\n",
       "      <td>0.670106</td>\n",
       "      <td>0.640881</td>\n",
       "      <td>0.693548</td>\n",
       "      <td>0.692805</td>\n",
       "      <td>0.676036</td>\n",
       "      <td>0.995444</td>\n",
       "      <td>1.000000</td>\n",
       "      <td>0.270519</td>\n",
       "      <td>0.837837</td>\n",
       "      <td>0.546281</td>\n",
       "    </tr>\n",
       "    <tr>\n",
       "      <td>output_volume</td>\n",
       "      <td>0.259226</td>\n",
       "      <td>-0.033656</td>\n",
       "      <td>0.033923</td>\n",
       "      <td>0.022962</td>\n",
       "      <td>0.138356</td>\n",
       "      <td>0.020669</td>\n",
       "      <td>0.082127</td>\n",
       "      <td>0.084028</td>\n",
       "      <td>0.091096</td>\n",
       "      <td>0.259574</td>\n",
       "      <td>0.270519</td>\n",
       "      <td>1.000000</td>\n",
       "      <td>0.299165</td>\n",
       "      <td>0.215431</td>\n",
       "    </tr>\n",
       "    <tr>\n",
       "      <td>total_bitcoins</td>\n",
       "      <td>0.853095</td>\n",
       "      <td>-0.091230</td>\n",
       "      <td>0.550975</td>\n",
       "      <td>0.503553</td>\n",
       "      <td>0.492783</td>\n",
       "      <td>0.502001</td>\n",
       "      <td>0.556133</td>\n",
       "      <td>0.560533</td>\n",
       "      <td>0.545469</td>\n",
       "      <td>0.823252</td>\n",
       "      <td>0.837837</td>\n",
       "      <td>0.299165</td>\n",
       "      <td>1.000000</td>\n",
       "      <td>0.394698</td>\n",
       "    </tr>\n",
       "    <tr>\n",
       "      <td>transaction_fees</td>\n",
       "      <td>0.515961</td>\n",
       "      <td>-0.025885</td>\n",
       "      <td>0.402727</td>\n",
       "      <td>0.073641</td>\n",
       "      <td>0.682271</td>\n",
       "      <td>0.077810</td>\n",
       "      <td>0.472432</td>\n",
       "      <td>0.487465</td>\n",
       "      <td>0.564392</td>\n",
       "      <td>0.540150</td>\n",
       "      <td>0.546281</td>\n",
       "      <td>0.215431</td>\n",
       "      <td>0.394698</td>\n",
       "      <td>1.000000</td>\n",
       "    </tr>\n",
       "  </tbody>\n",
       "</table>\n",
       "</div>"
      ],
      "text/plain": [
       "                                  avg_block_size  \\\n",
       "avg_block_size                          1.000000   \n",
       "cost_per_transaction_percent           -0.051597   \n",
       "cost_per_transaction                    0.529394   \n",
       "difficulty                              0.636240   \n",
       "estimated_transaction_volume_usd        0.661933   \n",
       "hash_rate                               0.626424   \n",
       "market_cap                              0.702011   \n",
       "market_price_2                          0.702377   \n",
       "miners_revenue                          0.665177   \n",
       "n_transactions_excluding_popular        0.971450   \n",
       "n_transactions                          0.972875   \n",
       "output_volume                           0.259226   \n",
       "total_bitcoins                          0.853095   \n",
       "transaction_fees                        0.515961   \n",
       "\n",
       "                                  cost_per_transaction_percent  \\\n",
       "avg_block_size                                       -0.051597   \n",
       "cost_per_transaction_percent                          1.000000   \n",
       "cost_per_transaction                                 -0.038664   \n",
       "difficulty                                           -0.023245   \n",
       "estimated_transaction_volume_usd                     -0.025296   \n",
       "hash_rate                                            -0.023179   \n",
       "market_cap                                           -0.027506   \n",
       "market_price_2                                       -0.028073   \n",
       "miners_revenue                                       -0.028579   \n",
       "n_transactions_excluding_popular                     -0.048561   \n",
       "n_transactions                                       -0.051035   \n",
       "output_volume                                        -0.033656   \n",
       "total_bitcoins                                       -0.091230   \n",
       "transaction_fees                                     -0.025885   \n",
       "\n",
       "                                  cost_per_transaction  difficulty  \\\n",
       "avg_block_size                                0.529394    0.636240   \n",
       "cost_per_transaction_percent                 -0.038664   -0.023245   \n",
       "cost_per_transaction                          1.000000    0.559057   \n",
       "difficulty                                    0.559057    1.000000   \n",
       "estimated_transaction_volume_usd              0.738785    0.530863   \n",
       "hash_rate                                     0.569977    0.992881   \n",
       "market_cap                                    0.857025    0.786755   \n",
       "market_price_2                                0.867885    0.769127   \n",
       "miners_revenue                                0.881768    0.684650   \n",
       "n_transactions_excluding_popular              0.494602    0.628557   \n",
       "n_transactions                                0.500931    0.637798   \n",
       "output_volume                                 0.033923    0.022962   \n",
       "total_bitcoins                                0.550975    0.503553   \n",
       "transaction_fees                              0.402727    0.073641   \n",
       "\n",
       "                                  estimated_transaction_volume_usd  hash_rate  \\\n",
       "avg_block_size                                            0.661933   0.626424   \n",
       "cost_per_transaction_percent                             -0.025296  -0.023179   \n",
       "cost_per_transaction                                      0.738785   0.569977   \n",
       "difficulty                                                0.530863   0.992881   \n",
       "estimated_transaction_volume_usd                          1.000000   0.531814   \n",
       "hash_rate                                                 0.531814   1.000000   \n",
       "market_cap                                                0.876827   0.789750   \n",
       "market_price_2                                            0.884338   0.772287   \n",
       "miners_revenue                                            0.911858   0.698649   \n",
       "n_transactions_excluding_popular                          0.661108   0.631557   \n",
       "n_transactions                                            0.670106   0.640881   \n",
       "output_volume                                             0.138356   0.020669   \n",
       "total_bitcoins                                            0.492783   0.502001   \n",
       "transaction_fees                                          0.682271   0.077810   \n",
       "\n",
       "                                  market_cap  market_price_2  miners_revenue  \\\n",
       "avg_block_size                      0.702011        0.702377        0.665177   \n",
       "cost_per_transaction_percent       -0.027506       -0.028073       -0.028579   \n",
       "cost_per_transaction                0.857025        0.867885        0.881768   \n",
       "difficulty                          0.786755        0.769127        0.684650   \n",
       "estimated_transaction_volume_usd    0.876827        0.884338        0.911858   \n",
       "hash_rate                           0.789750        0.772287        0.698649   \n",
       "market_cap                          1.000000        0.999379        0.976817   \n",
       "market_price_2                      0.999379        1.000000        0.980881   \n",
       "miners_revenue                      0.976817        0.980881        1.000000   \n",
       "n_transactions_excluding_popular    0.683876        0.683373        0.666400   \n",
       "n_transactions                      0.693548        0.692805        0.676036   \n",
       "output_volume                       0.082127        0.084028        0.091096   \n",
       "total_bitcoins                      0.556133        0.560533        0.545469   \n",
       "transaction_fees                    0.472432        0.487465        0.564392   \n",
       "\n",
       "                                  n_transactions_excluding_popular  \\\n",
       "avg_block_size                                            0.971450   \n",
       "cost_per_transaction_percent                             -0.048561   \n",
       "cost_per_transaction                                      0.494602   \n",
       "difficulty                                                0.628557   \n",
       "estimated_transaction_volume_usd                          0.661108   \n",
       "hash_rate                                                 0.631557   \n",
       "market_cap                                                0.683876   \n",
       "market_price_2                                            0.683373   \n",
       "miners_revenue                                            0.666400   \n",
       "n_transactions_excluding_popular                          1.000000   \n",
       "n_transactions                                            0.995444   \n",
       "output_volume                                             0.259574   \n",
       "total_bitcoins                                            0.823252   \n",
       "transaction_fees                                          0.540150   \n",
       "\n",
       "                                  n_transactions  output_volume  \\\n",
       "avg_block_size                          0.972875       0.259226   \n",
       "cost_per_transaction_percent           -0.051035      -0.033656   \n",
       "cost_per_transaction                    0.500931       0.033923   \n",
       "difficulty                              0.637798       0.022962   \n",
       "estimated_transaction_volume_usd        0.670106       0.138356   \n",
       "hash_rate                               0.640881       0.020669   \n",
       "market_cap                              0.693548       0.082127   \n",
       "market_price_2                          0.692805       0.084028   \n",
       "miners_revenue                          0.676036       0.091096   \n",
       "n_transactions_excluding_popular        0.995444       0.259574   \n",
       "n_transactions                          1.000000       0.270519   \n",
       "output_volume                           0.270519       1.000000   \n",
       "total_bitcoins                          0.837837       0.299165   \n",
       "transaction_fees                        0.546281       0.215431   \n",
       "\n",
       "                                  total_bitcoins  transaction_fees  \n",
       "avg_block_size                          0.853095          0.515961  \n",
       "cost_per_transaction_percent           -0.091230         -0.025885  \n",
       "cost_per_transaction                    0.550975          0.402727  \n",
       "difficulty                              0.503553          0.073641  \n",
       "estimated_transaction_volume_usd        0.492783          0.682271  \n",
       "hash_rate                               0.502001          0.077810  \n",
       "market_cap                              0.556133          0.472432  \n",
       "market_price_2                          0.560533          0.487465  \n",
       "miners_revenue                          0.545469          0.564392  \n",
       "n_transactions_excluding_popular        0.823252          0.540150  \n",
       "n_transactions                          0.837837          0.546281  \n",
       "output_volume                           0.299165          0.215431  \n",
       "total_bitcoins                          1.000000          0.394698  \n",
       "transaction_fees                        0.394698          1.000000  "
      ]
     },
     "execution_count": 16,
     "metadata": {},
     "output_type": "execute_result"
    }
   ],
   "source": [
    "tabela_corr = dfs.corr()\n",
    "tabela_corr"
   ]
  },
  {
   "cell_type": "code",
   "execution_count": 17,
   "metadata": {},
   "outputs": [],
   "source": [
    "def correlation_heatmap(df, title, absolute_bounds=True):\n",
    "    '''Plot a correlation heatmap for the entire dataframe'''\n",
    "    heatmap = go.Heatmap(\n",
    "        z=df.corr(method='pearson').values,\n",
    "        x=df.columns,\n",
    "        y=df.columns,\n",
    "        colorbar=dict(title='Pearson Coefficient'),\n",
    "    )\n",
    "    \n",
    "    layout = go.Layout(title=title)\n",
    "    \n",
    "    if absolute_bounds:\n",
    "        heatmap['zmax'] = 1.0\n",
    "        heatmap['zmin'] = -1.0\n",
    "        \n",
    "    fig = go.Figure(data=[heatmap], layout=layout)\n",
    "    py.iplot(fig)"
   ]
  },
  {
   "cell_type": "code",
   "execution_count": 18,
   "metadata": {},
   "outputs": [
    {
     "data": {
      "application/vnd.plotly.v1+json": {
       "config": {
        "linkText": "Export to plot.ly",
        "plotlyServerURL": "https://plot.ly",
        "showLink": false
       },
       "data": [
        {
         "colorbar": {
          "title": {
           "text": "Pearson Coefficient"
          }
         },
         "type": "heatmap",
         "x": [
          "Date",
          "avg_block_size",
          "cost_per_transaction_percent",
          "cost_per_transaction",
          "difficulty",
          "estimated_transaction_volume_usd",
          "hash_rate",
          "market_cap",
          "market_price_2",
          "miners_revenue",
          "n_transactions_excluding_popular",
          "n_transactions",
          "output_volume",
          "total_bitcoins",
          "transaction_fees"
         ],
         "y": [
          "Date",
          "avg_block_size",
          "cost_per_transaction_percent",
          "cost_per_transaction",
          "difficulty",
          "estimated_transaction_volume_usd",
          "hash_rate",
          "market_cap",
          "market_price_2",
          "miners_revenue",
          "n_transactions_excluding_popular",
          "n_transactions",
          "output_volume",
          "total_bitcoins",
          "transaction_fees"
         ],
         "z": [
          [
           1,
           -0.05159719811000768,
           0.5293937929109183,
           0.6362400448819281,
           0.661933264762577,
           0.6264239312094403,
           0.7020113767368132,
           0.7023769156032319,
           0.6651769845880537,
           0.9714498177051587,
           0.9728749975859173,
           0.2592256522401916,
           0.8530945987536961,
           0.5159605875608606
          ],
          [
           -0.05159719811000768,
           1,
           -0.03866434470023296,
           -0.023244964752338112,
           -0.02529615671555396,
           -0.02317906268181057,
           -0.027505607921631738,
           -0.028072721480991478,
           -0.0285787800914859,
           -0.048560898529627826,
           -0.0510348354194372,
           -0.033656227178297304,
           -0.09123038496286108,
           -0.025884594958621564
          ],
          [
           0.5293937929109183,
           -0.03866434470023296,
           1,
           0.5590566008084509,
           0.738785036825618,
           0.5699765965696159,
           0.8570248342783622,
           0.867885173554811,
           0.8817675448562615,
           0.4946017201498144,
           0.5009313209594599,
           0.033923232888563186,
           0.5509749138364622,
           0.4027267920847271
          ],
          [
           0.6362400448819281,
           -0.023244964752338112,
           0.5590566008084509,
           1,
           0.530863088764135,
           0.9928809377443261,
           0.7867551975826897,
           0.7691273776711429,
           0.6846504969173285,
           0.6285571514797262,
           0.6377978786870022,
           0.022962322076146898,
           0.5035526176227131,
           0.07364120692515996
          ],
          [
           0.661933264762577,
           -0.02529615671555396,
           0.738785036825618,
           0.530863088764135,
           1,
           0.5318137965915655,
           0.876827259224985,
           0.8843379750019592,
           0.9118577535317087,
           0.6611078317919471,
           0.6701062600752222,
           0.13835603249785713,
           0.49278311623347365,
           0.6822713307116106
          ],
          [
           0.6264239312094403,
           -0.02317906268181057,
           0.5699765965696159,
           0.9928809377443261,
           0.5318137965915655,
           1,
           0.7897500918785131,
           0.7722868871962285,
           0.6986489133290625,
           0.6315574670515092,
           0.6408806655346966,
           0.020668746099118295,
           0.5020014690587907,
           0.0778101924096815
          ],
          [
           0.7020113767368132,
           -0.027505607921631738,
           0.8570248342783622,
           0.7867551975826897,
           0.876827259224985,
           0.7897500918785131,
           1,
           0.9993790477261594,
           0.9768173810746344,
           0.6838760552640759,
           0.6935480725714998,
           0.08212687078444715,
           0.5561334393254463,
           0.47243190777931676
          ],
          [
           0.7023769156032319,
           -0.028072721480991478,
           0.867885173554811,
           0.7691273776711429,
           0.8843379750019592,
           0.7722868871962285,
           0.9993790477261594,
           1,
           0.9808813938803163,
           0.6833733239466927,
           0.6928049041428168,
           0.08402779983975774,
           0.5605327682102815,
           0.48746492187894597
          ],
          [
           0.6651769845880537,
           -0.0285787800914859,
           0.8817675448562615,
           0.6846504969173285,
           0.9118577535317087,
           0.6986489133290625,
           0.9768173810746344,
           0.9808813938803163,
           1,
           0.6663999044860663,
           0.6760360459835086,
           0.09109638925932168,
           0.5454692501979176,
           0.5643916231495333
          ],
          [
           0.9714498177051587,
           -0.048560898529627826,
           0.4946017201498144,
           0.6285571514797262,
           0.6611078317919471,
           0.6315574670515092,
           0.6838760552640759,
           0.6833733239466927,
           0.6663999044860663,
           1,
           0.9954437383803452,
           0.2595743068497127,
           0.8232519732060463,
           0.5401497748636128
          ],
          [
           0.9728749975859173,
           -0.0510348354194372,
           0.5009313209594599,
           0.6377978786870022,
           0.6701062600752222,
           0.6408806655346966,
           0.6935480725714998,
           0.6928049041428168,
           0.6760360459835086,
           0.9954437383803452,
           1,
           0.2705185246947696,
           0.837837342240387,
           0.5462813536768256
          ],
          [
           0.2592256522401916,
           -0.033656227178297304,
           0.033923232888563186,
           0.022962322076146898,
           0.13835603249785713,
           0.020668746099118295,
           0.08212687078444715,
           0.08402779983975774,
           0.09109638925932168,
           0.2595743068497127,
           0.2705185246947696,
           1,
           0.29916545461111166,
           0.2154313534051086
          ],
          [
           0.8530945987536961,
           -0.09123038496286108,
           0.5509749138364622,
           0.5035526176227131,
           0.49278311623347365,
           0.5020014690587907,
           0.5561334393254463,
           0.5605327682102815,
           0.5454692501979176,
           0.8232519732060463,
           0.837837342240387,
           0.29916545461111166,
           1,
           0.39469774251414746
          ],
          [
           0.5159605875608606,
           -0.025884594958621564,
           0.4027267920847271,
           0.07364120692515996,
           0.6822713307116106,
           0.0778101924096815,
           0.47243190777931676,
           0.48746492187894597,
           0.5643916231495333,
           0.5401497748636128,
           0.5462813536768256,
           0.2154313534051086,
           0.39469774251414746,
           1
          ]
         ],
         "zmax": 1,
         "zmin": -1
        }
       ],
       "layout": {
        "template": {
         "data": {
          "bar": [
           {
            "error_x": {
             "color": "#2a3f5f"
            },
            "error_y": {
             "color": "#2a3f5f"
            },
            "marker": {
             "line": {
              "color": "#E5ECF6",
              "width": 0.5
             }
            },
            "type": "bar"
           }
          ],
          "barpolar": [
           {
            "marker": {
             "line": {
              "color": "#E5ECF6",
              "width": 0.5
             }
            },
            "type": "barpolar"
           }
          ],
          "carpet": [
           {
            "aaxis": {
             "endlinecolor": "#2a3f5f",
             "gridcolor": "white",
             "linecolor": "white",
             "minorgridcolor": "white",
             "startlinecolor": "#2a3f5f"
            },
            "baxis": {
             "endlinecolor": "#2a3f5f",
             "gridcolor": "white",
             "linecolor": "white",
             "minorgridcolor": "white",
             "startlinecolor": "#2a3f5f"
            },
            "type": "carpet"
           }
          ],
          "choropleth": [
           {
            "colorbar": {
             "outlinewidth": 0,
             "ticks": ""
            },
            "type": "choropleth"
           }
          ],
          "contour": [
           {
            "colorbar": {
             "outlinewidth": 0,
             "ticks": ""
            },
            "colorscale": [
             [
              0,
              "#0d0887"
             ],
             [
              0.1111111111111111,
              "#46039f"
             ],
             [
              0.2222222222222222,
              "#7201a8"
             ],
             [
              0.3333333333333333,
              "#9c179e"
             ],
             [
              0.4444444444444444,
              "#bd3786"
             ],
             [
              0.5555555555555556,
              "#d8576b"
             ],
             [
              0.6666666666666666,
              "#ed7953"
             ],
             [
              0.7777777777777778,
              "#fb9f3a"
             ],
             [
              0.8888888888888888,
              "#fdca26"
             ],
             [
              1,
              "#f0f921"
             ]
            ],
            "type": "contour"
           }
          ],
          "contourcarpet": [
           {
            "colorbar": {
             "outlinewidth": 0,
             "ticks": ""
            },
            "type": "contourcarpet"
           }
          ],
          "heatmap": [
           {
            "colorbar": {
             "outlinewidth": 0,
             "ticks": ""
            },
            "colorscale": [
             [
              0,
              "#0d0887"
             ],
             [
              0.1111111111111111,
              "#46039f"
             ],
             [
              0.2222222222222222,
              "#7201a8"
             ],
             [
              0.3333333333333333,
              "#9c179e"
             ],
             [
              0.4444444444444444,
              "#bd3786"
             ],
             [
              0.5555555555555556,
              "#d8576b"
             ],
             [
              0.6666666666666666,
              "#ed7953"
             ],
             [
              0.7777777777777778,
              "#fb9f3a"
             ],
             [
              0.8888888888888888,
              "#fdca26"
             ],
             [
              1,
              "#f0f921"
             ]
            ],
            "type": "heatmap"
           }
          ],
          "heatmapgl": [
           {
            "colorbar": {
             "outlinewidth": 0,
             "ticks": ""
            },
            "colorscale": [
             [
              0,
              "#0d0887"
             ],
             [
              0.1111111111111111,
              "#46039f"
             ],
             [
              0.2222222222222222,
              "#7201a8"
             ],
             [
              0.3333333333333333,
              "#9c179e"
             ],
             [
              0.4444444444444444,
              "#bd3786"
             ],
             [
              0.5555555555555556,
              "#d8576b"
             ],
             [
              0.6666666666666666,
              "#ed7953"
             ],
             [
              0.7777777777777778,
              "#fb9f3a"
             ],
             [
              0.8888888888888888,
              "#fdca26"
             ],
             [
              1,
              "#f0f921"
             ]
            ],
            "type": "heatmapgl"
           }
          ],
          "histogram": [
           {
            "marker": {
             "colorbar": {
              "outlinewidth": 0,
              "ticks": ""
             }
            },
            "type": "histogram"
           }
          ],
          "histogram2d": [
           {
            "colorbar": {
             "outlinewidth": 0,
             "ticks": ""
            },
            "colorscale": [
             [
              0,
              "#0d0887"
             ],
             [
              0.1111111111111111,
              "#46039f"
             ],
             [
              0.2222222222222222,
              "#7201a8"
             ],
             [
              0.3333333333333333,
              "#9c179e"
             ],
             [
              0.4444444444444444,
              "#bd3786"
             ],
             [
              0.5555555555555556,
              "#d8576b"
             ],
             [
              0.6666666666666666,
              "#ed7953"
             ],
             [
              0.7777777777777778,
              "#fb9f3a"
             ],
             [
              0.8888888888888888,
              "#fdca26"
             ],
             [
              1,
              "#f0f921"
             ]
            ],
            "type": "histogram2d"
           }
          ],
          "histogram2dcontour": [
           {
            "colorbar": {
             "outlinewidth": 0,
             "ticks": ""
            },
            "colorscale": [
             [
              0,
              "#0d0887"
             ],
             [
              0.1111111111111111,
              "#46039f"
             ],
             [
              0.2222222222222222,
              "#7201a8"
             ],
             [
              0.3333333333333333,
              "#9c179e"
             ],
             [
              0.4444444444444444,
              "#bd3786"
             ],
             [
              0.5555555555555556,
              "#d8576b"
             ],
             [
              0.6666666666666666,
              "#ed7953"
             ],
             [
              0.7777777777777778,
              "#fb9f3a"
             ],
             [
              0.8888888888888888,
              "#fdca26"
             ],
             [
              1,
              "#f0f921"
             ]
            ],
            "type": "histogram2dcontour"
           }
          ],
          "mesh3d": [
           {
            "colorbar": {
             "outlinewidth": 0,
             "ticks": ""
            },
            "type": "mesh3d"
           }
          ],
          "parcoords": [
           {
            "line": {
             "colorbar": {
              "outlinewidth": 0,
              "ticks": ""
             }
            },
            "type": "parcoords"
           }
          ],
          "pie": [
           {
            "automargin": true,
            "type": "pie"
           }
          ],
          "scatter": [
           {
            "marker": {
             "colorbar": {
              "outlinewidth": 0,
              "ticks": ""
             }
            },
            "type": "scatter"
           }
          ],
          "scatter3d": [
           {
            "line": {
             "colorbar": {
              "outlinewidth": 0,
              "ticks": ""
             }
            },
            "marker": {
             "colorbar": {
              "outlinewidth": 0,
              "ticks": ""
             }
            },
            "type": "scatter3d"
           }
          ],
          "scattercarpet": [
           {
            "marker": {
             "colorbar": {
              "outlinewidth": 0,
              "ticks": ""
             }
            },
            "type": "scattercarpet"
           }
          ],
          "scattergeo": [
           {
            "marker": {
             "colorbar": {
              "outlinewidth": 0,
              "ticks": ""
             }
            },
            "type": "scattergeo"
           }
          ],
          "scattergl": [
           {
            "marker": {
             "colorbar": {
              "outlinewidth": 0,
              "ticks": ""
             }
            },
            "type": "scattergl"
           }
          ],
          "scattermapbox": [
           {
            "marker": {
             "colorbar": {
              "outlinewidth": 0,
              "ticks": ""
             }
            },
            "type": "scattermapbox"
           }
          ],
          "scatterpolar": [
           {
            "marker": {
             "colorbar": {
              "outlinewidth": 0,
              "ticks": ""
             }
            },
            "type": "scatterpolar"
           }
          ],
          "scatterpolargl": [
           {
            "marker": {
             "colorbar": {
              "outlinewidth": 0,
              "ticks": ""
             }
            },
            "type": "scatterpolargl"
           }
          ],
          "scatterternary": [
           {
            "marker": {
             "colorbar": {
              "outlinewidth": 0,
              "ticks": ""
             }
            },
            "type": "scatterternary"
           }
          ],
          "surface": [
           {
            "colorbar": {
             "outlinewidth": 0,
             "ticks": ""
            },
            "colorscale": [
             [
              0,
              "#0d0887"
             ],
             [
              0.1111111111111111,
              "#46039f"
             ],
             [
              0.2222222222222222,
              "#7201a8"
             ],
             [
              0.3333333333333333,
              "#9c179e"
             ],
             [
              0.4444444444444444,
              "#bd3786"
             ],
             [
              0.5555555555555556,
              "#d8576b"
             ],
             [
              0.6666666666666666,
              "#ed7953"
             ],
             [
              0.7777777777777778,
              "#fb9f3a"
             ],
             [
              0.8888888888888888,
              "#fdca26"
             ],
             [
              1,
              "#f0f921"
             ]
            ],
            "type": "surface"
           }
          ],
          "table": [
           {
            "cells": {
             "fill": {
              "color": "#EBF0F8"
             },
             "line": {
              "color": "white"
             }
            },
            "header": {
             "fill": {
              "color": "#C8D4E3"
             },
             "line": {
              "color": "white"
             }
            },
            "type": "table"
           }
          ]
         },
         "layout": {
          "annotationdefaults": {
           "arrowcolor": "#2a3f5f",
           "arrowhead": 0,
           "arrowwidth": 1
          },
          "coloraxis": {
           "colorbar": {
            "outlinewidth": 0,
            "ticks": ""
           }
          },
          "colorscale": {
           "diverging": [
            [
             0,
             "#8e0152"
            ],
            [
             0.1,
             "#c51b7d"
            ],
            [
             0.2,
             "#de77ae"
            ],
            [
             0.3,
             "#f1b6da"
            ],
            [
             0.4,
             "#fde0ef"
            ],
            [
             0.5,
             "#f7f7f7"
            ],
            [
             0.6,
             "#e6f5d0"
            ],
            [
             0.7,
             "#b8e186"
            ],
            [
             0.8,
             "#7fbc41"
            ],
            [
             0.9,
             "#4d9221"
            ],
            [
             1,
             "#276419"
            ]
           ],
           "sequential": [
            [
             0,
             "#0d0887"
            ],
            [
             0.1111111111111111,
             "#46039f"
            ],
            [
             0.2222222222222222,
             "#7201a8"
            ],
            [
             0.3333333333333333,
             "#9c179e"
            ],
            [
             0.4444444444444444,
             "#bd3786"
            ],
            [
             0.5555555555555556,
             "#d8576b"
            ],
            [
             0.6666666666666666,
             "#ed7953"
            ],
            [
             0.7777777777777778,
             "#fb9f3a"
            ],
            [
             0.8888888888888888,
             "#fdca26"
            ],
            [
             1,
             "#f0f921"
            ]
           ],
           "sequentialminus": [
            [
             0,
             "#0d0887"
            ],
            [
             0.1111111111111111,
             "#46039f"
            ],
            [
             0.2222222222222222,
             "#7201a8"
            ],
            [
             0.3333333333333333,
             "#9c179e"
            ],
            [
             0.4444444444444444,
             "#bd3786"
            ],
            [
             0.5555555555555556,
             "#d8576b"
            ],
            [
             0.6666666666666666,
             "#ed7953"
            ],
            [
             0.7777777777777778,
             "#fb9f3a"
            ],
            [
             0.8888888888888888,
             "#fdca26"
            ],
            [
             1,
             "#f0f921"
            ]
           ]
          },
          "colorway": [
           "#636efa",
           "#EF553B",
           "#00cc96",
           "#ab63fa",
           "#FFA15A",
           "#19d3f3",
           "#FF6692",
           "#B6E880",
           "#FF97FF",
           "#FECB52"
          ],
          "font": {
           "color": "#2a3f5f"
          },
          "geo": {
           "bgcolor": "white",
           "lakecolor": "white",
           "landcolor": "#E5ECF6",
           "showlakes": true,
           "showland": true,
           "subunitcolor": "white"
          },
          "hoverlabel": {
           "align": "left"
          },
          "hovermode": "closest",
          "mapbox": {
           "style": "light"
          },
          "paper_bgcolor": "white",
          "plot_bgcolor": "#E5ECF6",
          "polar": {
           "angularaxis": {
            "gridcolor": "white",
            "linecolor": "white",
            "ticks": ""
           },
           "bgcolor": "#E5ECF6",
           "radialaxis": {
            "gridcolor": "white",
            "linecolor": "white",
            "ticks": ""
           }
          },
          "scene": {
           "xaxis": {
            "backgroundcolor": "#E5ECF6",
            "gridcolor": "white",
            "gridwidth": 2,
            "linecolor": "white",
            "showbackground": true,
            "ticks": "",
            "zerolinecolor": "white"
           },
           "yaxis": {
            "backgroundcolor": "#E5ECF6",
            "gridcolor": "white",
            "gridwidth": 2,
            "linecolor": "white",
            "showbackground": true,
            "ticks": "",
            "zerolinecolor": "white"
           },
           "zaxis": {
            "backgroundcolor": "#E5ECF6",
            "gridcolor": "white",
            "gridwidth": 2,
            "linecolor": "white",
            "showbackground": true,
            "ticks": "",
            "zerolinecolor": "white"
           }
          },
          "shapedefaults": {
           "line": {
            "color": "#2a3f5f"
           }
          },
          "ternary": {
           "aaxis": {
            "gridcolor": "white",
            "linecolor": "white",
            "ticks": ""
           },
           "baxis": {
            "gridcolor": "white",
            "linecolor": "white",
            "ticks": ""
           },
           "bgcolor": "#E5ECF6",
           "caxis": {
            "gridcolor": "white",
            "linecolor": "white",
            "ticks": ""
           }
          },
          "title": {
           "x": 0.05
          },
          "xaxis": {
           "automargin": true,
           "gridcolor": "white",
           "linecolor": "white",
           "ticks": "",
           "title": {
            "standoff": 15
           },
           "zerolinecolor": "white",
           "zerolinewidth": 2
          },
          "yaxis": {
           "automargin": true,
           "gridcolor": "white",
           "linecolor": "white",
           "ticks": "",
           "title": {
            "standoff": 15
           },
           "zerolinecolor": "white",
           "zerolinewidth": 2
          }
         }
        },
        "title": {
         "text": "Correlação das variávies"
        }
       }
      },
      "text/html": [
       "<div>\n",
       "        \n",
       "        \n",
       "            <div id=\"953c9c08-b6f6-4bc5-a000-937650a892ad\" class=\"plotly-graph-div\" style=\"height:525px; width:100%;\"></div>\n",
       "            <script type=\"text/javascript\">\n",
       "                require([\"plotly\"], function(Plotly) {\n",
       "                    window.PLOTLYENV=window.PLOTLYENV || {};\n",
       "                    \n",
       "                if (document.getElementById(\"953c9c08-b6f6-4bc5-a000-937650a892ad\")) {\n",
       "                    Plotly.newPlot(\n",
       "                        '953c9c08-b6f6-4bc5-a000-937650a892ad',\n",
       "                        [{\"colorbar\": {\"title\": {\"text\": \"Pearson Coefficient\"}}, \"type\": \"heatmap\", \"x\": [\"Date\", \"avg_block_size\", \"cost_per_transaction_percent\", \"cost_per_transaction\", \"difficulty\", \"estimated_transaction_volume_usd\", \"hash_rate\", \"market_cap\", \"market_price_2\", \"miners_revenue\", \"n_transactions_excluding_popular\", \"n_transactions\", \"output_volume\", \"total_bitcoins\", \"transaction_fees\"], \"y\": [\"Date\", \"avg_block_size\", \"cost_per_transaction_percent\", \"cost_per_transaction\", \"difficulty\", \"estimated_transaction_volume_usd\", \"hash_rate\", \"market_cap\", \"market_price_2\", \"miners_revenue\", \"n_transactions_excluding_popular\", \"n_transactions\", \"output_volume\", \"total_bitcoins\", \"transaction_fees\"], \"z\": [[1.0, -0.05159719811000768, 0.5293937929109183, 0.6362400448819281, 0.661933264762577, 0.6264239312094403, 0.7020113767368132, 0.7023769156032319, 0.6651769845880537, 0.9714498177051587, 0.9728749975859173, 0.2592256522401916, 0.8530945987536961, 0.5159605875608606], [-0.05159719811000768, 1.0, -0.03866434470023296, -0.023244964752338112, -0.02529615671555396, -0.02317906268181057, -0.027505607921631738, -0.028072721480991478, -0.0285787800914859, -0.048560898529627826, -0.0510348354194372, -0.033656227178297304, -0.09123038496286108, -0.025884594958621564], [0.5293937929109183, -0.03866434470023296, 1.0, 0.5590566008084509, 0.738785036825618, 0.5699765965696159, 0.8570248342783622, 0.867885173554811, 0.8817675448562615, 0.4946017201498144, 0.5009313209594599, 0.033923232888563186, 0.5509749138364622, 0.4027267920847271], [0.6362400448819281, -0.023244964752338112, 0.5590566008084509, 1.0, 0.530863088764135, 0.9928809377443261, 0.7867551975826897, 0.7691273776711429, 0.6846504969173285, 0.6285571514797262, 0.6377978786870022, 0.022962322076146898, 0.5035526176227131, 0.07364120692515996], [0.661933264762577, -0.02529615671555396, 0.738785036825618, 0.530863088764135, 1.0, 0.5318137965915655, 0.876827259224985, 0.8843379750019592, 0.9118577535317087, 0.6611078317919471, 0.6701062600752222, 0.13835603249785713, 0.49278311623347365, 0.6822713307116106], [0.6264239312094403, -0.02317906268181057, 0.5699765965696159, 0.9928809377443261, 0.5318137965915655, 1.0, 0.7897500918785131, 0.7722868871962285, 0.6986489133290625, 0.6315574670515092, 0.6408806655346966, 0.020668746099118295, 0.5020014690587907, 0.0778101924096815], [0.7020113767368132, -0.027505607921631738, 0.8570248342783622, 0.7867551975826897, 0.876827259224985, 0.7897500918785131, 1.0, 0.9993790477261594, 0.9768173810746344, 0.6838760552640759, 0.6935480725714998, 0.08212687078444715, 0.5561334393254463, 0.47243190777931676], [0.7023769156032319, -0.028072721480991478, 0.867885173554811, 0.7691273776711429, 0.8843379750019592, 0.7722868871962285, 0.9993790477261594, 1.0, 0.9808813938803163, 0.6833733239466927, 0.6928049041428168, 0.08402779983975774, 0.5605327682102815, 0.48746492187894597], [0.6651769845880537, -0.0285787800914859, 0.8817675448562615, 0.6846504969173285, 0.9118577535317087, 0.6986489133290625, 0.9768173810746344, 0.9808813938803163, 1.0, 0.6663999044860663, 0.6760360459835086, 0.09109638925932168, 0.5454692501979176, 0.5643916231495333], [0.9714498177051587, -0.048560898529627826, 0.4946017201498144, 0.6285571514797262, 0.6611078317919471, 0.6315574670515092, 0.6838760552640759, 0.6833733239466927, 0.6663999044860663, 1.0, 0.9954437383803452, 0.2595743068497127, 0.8232519732060463, 0.5401497748636128], [0.9728749975859173, -0.0510348354194372, 0.5009313209594599, 0.6377978786870022, 0.6701062600752222, 0.6408806655346966, 0.6935480725714998, 0.6928049041428168, 0.6760360459835086, 0.9954437383803452, 1.0, 0.2705185246947696, 0.837837342240387, 0.5462813536768256], [0.2592256522401916, -0.033656227178297304, 0.033923232888563186, 0.022962322076146898, 0.13835603249785713, 0.020668746099118295, 0.08212687078444715, 0.08402779983975774, 0.09109638925932168, 0.2595743068497127, 0.2705185246947696, 1.0, 0.29916545461111166, 0.2154313534051086], [0.8530945987536961, -0.09123038496286108, 0.5509749138364622, 0.5035526176227131, 0.49278311623347365, 0.5020014690587907, 0.5561334393254463, 0.5605327682102815, 0.5454692501979176, 0.8232519732060463, 0.837837342240387, 0.29916545461111166, 1.0, 0.39469774251414746], [0.5159605875608606, -0.025884594958621564, 0.4027267920847271, 0.07364120692515996, 0.6822713307116106, 0.0778101924096815, 0.47243190777931676, 0.48746492187894597, 0.5643916231495333, 0.5401497748636128, 0.5462813536768256, 0.2154313534051086, 0.39469774251414746, 1.0]], \"zmax\": 1.0, \"zmin\": -1.0}],\n",
       "                        {\"template\": {\"data\": {\"bar\": [{\"error_x\": {\"color\": \"#2a3f5f\"}, \"error_y\": {\"color\": \"#2a3f5f\"}, \"marker\": {\"line\": {\"color\": \"#E5ECF6\", \"width\": 0.5}}, \"type\": \"bar\"}], \"barpolar\": [{\"marker\": {\"line\": {\"color\": \"#E5ECF6\", \"width\": 0.5}}, \"type\": \"barpolar\"}], \"carpet\": [{\"aaxis\": {\"endlinecolor\": \"#2a3f5f\", \"gridcolor\": \"white\", \"linecolor\": \"white\", \"minorgridcolor\": \"white\", \"startlinecolor\": \"#2a3f5f\"}, \"baxis\": {\"endlinecolor\": \"#2a3f5f\", \"gridcolor\": \"white\", \"linecolor\": \"white\", \"minorgridcolor\": \"white\", \"startlinecolor\": \"#2a3f5f\"}, \"type\": \"carpet\"}], \"choropleth\": [{\"colorbar\": {\"outlinewidth\": 0, \"ticks\": \"\"}, \"type\": \"choropleth\"}], \"contour\": [{\"colorbar\": {\"outlinewidth\": 0, \"ticks\": \"\"}, \"colorscale\": [[0.0, \"#0d0887\"], [0.1111111111111111, \"#46039f\"], [0.2222222222222222, \"#7201a8\"], [0.3333333333333333, \"#9c179e\"], [0.4444444444444444, \"#bd3786\"], [0.5555555555555556, \"#d8576b\"], [0.6666666666666666, \"#ed7953\"], [0.7777777777777778, \"#fb9f3a\"], [0.8888888888888888, \"#fdca26\"], [1.0, \"#f0f921\"]], \"type\": \"contour\"}], \"contourcarpet\": [{\"colorbar\": {\"outlinewidth\": 0, \"ticks\": \"\"}, \"type\": \"contourcarpet\"}], \"heatmap\": [{\"colorbar\": {\"outlinewidth\": 0, \"ticks\": \"\"}, \"colorscale\": [[0.0, \"#0d0887\"], [0.1111111111111111, \"#46039f\"], [0.2222222222222222, \"#7201a8\"], [0.3333333333333333, \"#9c179e\"], [0.4444444444444444, \"#bd3786\"], [0.5555555555555556, \"#d8576b\"], [0.6666666666666666, \"#ed7953\"], [0.7777777777777778, \"#fb9f3a\"], [0.8888888888888888, \"#fdca26\"], [1.0, \"#f0f921\"]], \"type\": \"heatmap\"}], \"heatmapgl\": [{\"colorbar\": {\"outlinewidth\": 0, \"ticks\": \"\"}, \"colorscale\": [[0.0, \"#0d0887\"], [0.1111111111111111, \"#46039f\"], [0.2222222222222222, \"#7201a8\"], [0.3333333333333333, \"#9c179e\"], [0.4444444444444444, \"#bd3786\"], [0.5555555555555556, \"#d8576b\"], [0.6666666666666666, \"#ed7953\"], [0.7777777777777778, \"#fb9f3a\"], [0.8888888888888888, \"#fdca26\"], [1.0, \"#f0f921\"]], \"type\": \"heatmapgl\"}], \"histogram\": [{\"marker\": {\"colorbar\": {\"outlinewidth\": 0, \"ticks\": \"\"}}, \"type\": \"histogram\"}], \"histogram2d\": [{\"colorbar\": {\"outlinewidth\": 0, \"ticks\": \"\"}, \"colorscale\": [[0.0, \"#0d0887\"], [0.1111111111111111, \"#46039f\"], [0.2222222222222222, \"#7201a8\"], [0.3333333333333333, \"#9c179e\"], [0.4444444444444444, \"#bd3786\"], [0.5555555555555556, \"#d8576b\"], [0.6666666666666666, \"#ed7953\"], [0.7777777777777778, \"#fb9f3a\"], [0.8888888888888888, \"#fdca26\"], [1.0, \"#f0f921\"]], \"type\": \"histogram2d\"}], \"histogram2dcontour\": [{\"colorbar\": {\"outlinewidth\": 0, \"ticks\": \"\"}, \"colorscale\": [[0.0, \"#0d0887\"], [0.1111111111111111, \"#46039f\"], [0.2222222222222222, \"#7201a8\"], [0.3333333333333333, \"#9c179e\"], [0.4444444444444444, \"#bd3786\"], [0.5555555555555556, \"#d8576b\"], [0.6666666666666666, \"#ed7953\"], [0.7777777777777778, \"#fb9f3a\"], [0.8888888888888888, \"#fdca26\"], [1.0, \"#f0f921\"]], \"type\": \"histogram2dcontour\"}], \"mesh3d\": [{\"colorbar\": {\"outlinewidth\": 0, \"ticks\": \"\"}, \"type\": \"mesh3d\"}], \"parcoords\": [{\"line\": {\"colorbar\": {\"outlinewidth\": 0, \"ticks\": \"\"}}, \"type\": \"parcoords\"}], \"pie\": [{\"automargin\": true, \"type\": \"pie\"}], \"scatter\": [{\"marker\": {\"colorbar\": {\"outlinewidth\": 0, \"ticks\": \"\"}}, \"type\": \"scatter\"}], \"scatter3d\": [{\"line\": {\"colorbar\": {\"outlinewidth\": 0, \"ticks\": \"\"}}, \"marker\": {\"colorbar\": {\"outlinewidth\": 0, \"ticks\": \"\"}}, \"type\": \"scatter3d\"}], \"scattercarpet\": [{\"marker\": {\"colorbar\": {\"outlinewidth\": 0, \"ticks\": \"\"}}, \"type\": \"scattercarpet\"}], \"scattergeo\": [{\"marker\": {\"colorbar\": {\"outlinewidth\": 0, \"ticks\": \"\"}}, \"type\": \"scattergeo\"}], \"scattergl\": [{\"marker\": {\"colorbar\": {\"outlinewidth\": 0, \"ticks\": \"\"}}, \"type\": \"scattergl\"}], \"scattermapbox\": [{\"marker\": {\"colorbar\": {\"outlinewidth\": 0, \"ticks\": \"\"}}, \"type\": \"scattermapbox\"}], \"scatterpolar\": [{\"marker\": {\"colorbar\": {\"outlinewidth\": 0, \"ticks\": \"\"}}, \"type\": \"scatterpolar\"}], \"scatterpolargl\": [{\"marker\": {\"colorbar\": {\"outlinewidth\": 0, \"ticks\": \"\"}}, \"type\": \"scatterpolargl\"}], \"scatterternary\": [{\"marker\": {\"colorbar\": {\"outlinewidth\": 0, \"ticks\": \"\"}}, \"type\": \"scatterternary\"}], \"surface\": [{\"colorbar\": {\"outlinewidth\": 0, \"ticks\": \"\"}, \"colorscale\": [[0.0, \"#0d0887\"], [0.1111111111111111, \"#46039f\"], [0.2222222222222222, \"#7201a8\"], [0.3333333333333333, \"#9c179e\"], [0.4444444444444444, \"#bd3786\"], [0.5555555555555556, \"#d8576b\"], [0.6666666666666666, \"#ed7953\"], [0.7777777777777778, \"#fb9f3a\"], [0.8888888888888888, \"#fdca26\"], [1.0, \"#f0f921\"]], \"type\": \"surface\"}], \"table\": [{\"cells\": {\"fill\": {\"color\": \"#EBF0F8\"}, \"line\": {\"color\": \"white\"}}, \"header\": {\"fill\": {\"color\": \"#C8D4E3\"}, \"line\": {\"color\": \"white\"}}, \"type\": \"table\"}]}, \"layout\": {\"annotationdefaults\": {\"arrowcolor\": \"#2a3f5f\", \"arrowhead\": 0, \"arrowwidth\": 1}, \"coloraxis\": {\"colorbar\": {\"outlinewidth\": 0, \"ticks\": \"\"}}, \"colorscale\": {\"diverging\": [[0, \"#8e0152\"], [0.1, \"#c51b7d\"], [0.2, \"#de77ae\"], [0.3, \"#f1b6da\"], [0.4, \"#fde0ef\"], [0.5, \"#f7f7f7\"], [0.6, \"#e6f5d0\"], [0.7, \"#b8e186\"], [0.8, \"#7fbc41\"], [0.9, \"#4d9221\"], [1, \"#276419\"]], \"sequential\": [[0.0, \"#0d0887\"], [0.1111111111111111, \"#46039f\"], [0.2222222222222222, \"#7201a8\"], [0.3333333333333333, \"#9c179e\"], [0.4444444444444444, \"#bd3786\"], [0.5555555555555556, \"#d8576b\"], [0.6666666666666666, \"#ed7953\"], [0.7777777777777778, \"#fb9f3a\"], [0.8888888888888888, \"#fdca26\"], [1.0, \"#f0f921\"]], \"sequentialminus\": [[0.0, \"#0d0887\"], [0.1111111111111111, \"#46039f\"], [0.2222222222222222, \"#7201a8\"], [0.3333333333333333, \"#9c179e\"], [0.4444444444444444, \"#bd3786\"], [0.5555555555555556, \"#d8576b\"], [0.6666666666666666, \"#ed7953\"], [0.7777777777777778, \"#fb9f3a\"], [0.8888888888888888, \"#fdca26\"], [1.0, \"#f0f921\"]]}, \"colorway\": [\"#636efa\", \"#EF553B\", \"#00cc96\", \"#ab63fa\", \"#FFA15A\", \"#19d3f3\", \"#FF6692\", \"#B6E880\", \"#FF97FF\", \"#FECB52\"], \"font\": {\"color\": \"#2a3f5f\"}, \"geo\": {\"bgcolor\": \"white\", \"lakecolor\": \"white\", \"landcolor\": \"#E5ECF6\", \"showlakes\": true, \"showland\": true, \"subunitcolor\": \"white\"}, \"hoverlabel\": {\"align\": \"left\"}, \"hovermode\": \"closest\", \"mapbox\": {\"style\": \"light\"}, \"paper_bgcolor\": \"white\", \"plot_bgcolor\": \"#E5ECF6\", \"polar\": {\"angularaxis\": {\"gridcolor\": \"white\", \"linecolor\": \"white\", \"ticks\": \"\"}, \"bgcolor\": \"#E5ECF6\", \"radialaxis\": {\"gridcolor\": \"white\", \"linecolor\": \"white\", \"ticks\": \"\"}}, \"scene\": {\"xaxis\": {\"backgroundcolor\": \"#E5ECF6\", \"gridcolor\": \"white\", \"gridwidth\": 2, \"linecolor\": \"white\", \"showbackground\": true, \"ticks\": \"\", \"zerolinecolor\": \"white\"}, \"yaxis\": {\"backgroundcolor\": \"#E5ECF6\", \"gridcolor\": \"white\", \"gridwidth\": 2, \"linecolor\": \"white\", \"showbackground\": true, \"ticks\": \"\", \"zerolinecolor\": \"white\"}, \"zaxis\": {\"backgroundcolor\": \"#E5ECF6\", \"gridcolor\": \"white\", \"gridwidth\": 2, \"linecolor\": \"white\", \"showbackground\": true, \"ticks\": \"\", \"zerolinecolor\": \"white\"}}, \"shapedefaults\": {\"line\": {\"color\": \"#2a3f5f\"}}, \"ternary\": {\"aaxis\": {\"gridcolor\": \"white\", \"linecolor\": \"white\", \"ticks\": \"\"}, \"baxis\": {\"gridcolor\": \"white\", \"linecolor\": \"white\", \"ticks\": \"\"}, \"bgcolor\": \"#E5ECF6\", \"caxis\": {\"gridcolor\": \"white\", \"linecolor\": \"white\", \"ticks\": \"\"}}, \"title\": {\"x\": 0.05}, \"xaxis\": {\"automargin\": true, \"gridcolor\": \"white\", \"linecolor\": \"white\", \"ticks\": \"\", \"title\": {\"standoff\": 15}, \"zerolinecolor\": \"white\", \"zerolinewidth\": 2}, \"yaxis\": {\"automargin\": true, \"gridcolor\": \"white\", \"linecolor\": \"white\", \"ticks\": \"\", \"title\": {\"standoff\": 15}, \"zerolinecolor\": \"white\", \"zerolinewidth\": 2}}}, \"title\": {\"text\": \"Correla\\u00e7\\u00e3o das vari\\u00e1vies\"}},\n",
       "                        {\"responsive\": true}\n",
       "                    ).then(function(){\n",
       "                            \n",
       "var gd = document.getElementById('953c9c08-b6f6-4bc5-a000-937650a892ad');\n",
       "var x = new MutationObserver(function (mutations, observer) {{\n",
       "        var display = window.getComputedStyle(gd).display;\n",
       "        if (!display || display === 'none') {{\n",
       "            console.log([gd, 'removed!']);\n",
       "            Plotly.purge(gd);\n",
       "            observer.disconnect();\n",
       "        }}\n",
       "}});\n",
       "\n",
       "// Listen for the removal of the full notebook cells\n",
       "var notebookContainer = gd.closest('#notebook-container');\n",
       "if (notebookContainer) {{\n",
       "    x.observe(notebookContainer, {childList: true});\n",
       "}}\n",
       "\n",
       "// Listen for the clearing of the current output cell\n",
       "var outputEl = gd.closest('.output');\n",
       "if (outputEl) {{\n",
       "    x.observe(outputEl, {childList: true});\n",
       "}}\n",
       "\n",
       "                        })\n",
       "                };\n",
       "                });\n",
       "            </script>\n",
       "        </div>"
      ]
     },
     "metadata": {},
     "output_type": "display_data"
    }
   ],
   "source": [
    "correlation_heatmap(dfs, 'Correlação das variávies')"
   ]
  },
  {
   "cell_type": "markdown",
   "metadata": {},
   "source": [
    "### Como podemos ver as variáveis que apresentam a correlação mais forte com o market price (preço) são:  \n",
    "-custo por transação em porcentagem  (miners revenue as percentage of the transaction volume.)  \n",
    "-Dificuldade  \n",
    "-Hash_rate\n",
    "\n",
    "#### Agora vamos analisar mais a fundo essas relações"
   ]
  },
  {
   "cell_type": "code",
   "execution_count": 19,
   "metadata": {},
   "outputs": [
    {
     "data": {
      "text/plain": [
       "Text(0, 0.5, 'Custo percentual de transação')"
      ]
     },
     "execution_count": 19,
     "metadata": {},
     "output_type": "execute_result"
    },
    {
     "data": {
      "image/png": "[encoded data removed]",
      "text/plain": [
       "<Figure size 432x288 with 1 Axes>"
      ]
     },
     "metadata": {
      "needs_background": "light"
     },
     "output_type": "display_data"
    }
   ],
   "source": [
    "plt.scatter(dfs[\"market_price_2\"],dfs[\"cost_per_transaction_percent\"])\n",
    "plt.title('Preço x Custo percentual de transação')\n",
    "plt.xlabel('Preço')\n",
    "plt.ylabel('Custo percentual de transação')"
   ]
  },
  {
   "cell_type": "code",
   "execution_count": 20,
   "metadata": {},
   "outputs": [
    {
     "data": {
      "text/plain": [
       "Text(0, 0.5, 'Dificuladade')"
      ]
     },
     "execution_count": 20,
     "metadata": {},
     "output_type": "execute_result"
    },
    {
     "data": {
      "image/png": "[encoded data removed]",
      "text/plain": [
       "<Figure size 432x288 with 1 Axes>"
      ]
     },
     "metadata": {
      "needs_background": "light"
     },
     "output_type": "display_data"
    }
   ],
   "source": [
    "plt.scatter(dfs[\"market_price_2\"],dfs[\"difficulty\"])\n",
    "plt.title('Preço x Dificulade')\n",
    "plt.xlabel('Preço')\n",
    "plt.ylabel('Dificuladade')"
   ]
  },
  {
   "cell_type": "code",
   "execution_count": 11,
   "metadata": {},
   "outputs": [
    {
     "data": {
      "text/plain": [
       "Text(0, 0.5, 'Hash Rate')"
      ]
     },
     "execution_count": 11,
     "metadata": {},
     "output_type": "execute_result"
    },
    {
     "data": {
      "image/png": "[encoded data removed]",
      "text/plain": [
       "<Figure size 432x288 with 1 Axes>"
      ]
     },
     "metadata": {
      "needs_background": "light"
     },
     "output_type": "display_data"
    }
   ],
   "source": [
    "plt.scatter(dfs[\"market_price_2\"],dfs[\"hash_rate\"])\n",
    "plt.title('Preço x Hash Rate')\n",
    "plt.xlabel('Preço')\n",
    "plt.ylabel('Hash Rate')"
   ]
  },
  {
   "cell_type": "code",
   "execution_count": 12,
   "metadata": {},
   "outputs": [
    {
     "name": "stderr",
     "output_type": "stream",
     "text": [
      "C:\\ProgramData\\Anaconda3\\lib\\site-packages\\numpy\\core\\fromnumeric.py:2389: FutureWarning:\n",
      "\n",
      "Method .ptp is deprecated and will be removed in a future version. Use numpy.ptp instead.\n",
      "\n"
     ]
    },
    {
     "data": {
      "text/html": [
       "<table class=\"simpletable\">\n",
       "<caption>OLS Regression Results</caption>\n",
       "<tr>\n",
       "  <th>Dep. Variable:</th>     <td>market_price_2</td>  <th>  R-squared:         </th> <td>   1.000</td> \n",
       "</tr>\n",
       "<tr>\n",
       "  <th>Model:</th>                   <td>OLS</td>       <th>  Adj. R-squared:    </th> <td>   1.000</td> \n",
       "</tr>\n",
       "<tr>\n",
       "  <th>Method:</th>             <td>Least Squares</td>  <th>  F-statistic:       </th> <td>5.008e+05</td>\n",
       "</tr>\n",
       "<tr>\n",
       "  <th>Date:</th>             <td>Tue, 12 Nov 2019</td> <th>  Prob (F-statistic):</th>  <td>  0.00</td>  \n",
       "</tr>\n",
       "<tr>\n",
       "  <th>Time:</th>                 <td>21:24:50</td>     <th>  Log-Likelihood:    </th> <td> -6923.7</td> \n",
       "</tr>\n",
       "<tr>\n",
       "  <th>No. Observations:</th>      <td>  1320</td>      <th>  AIC:               </th> <td>1.388e+04</td>\n",
       "</tr>\n",
       "<tr>\n",
       "  <th>Df Residuals:</th>          <td>  1306</td>      <th>  BIC:               </th> <td>1.395e+04</td>\n",
       "</tr>\n",
       "<tr>\n",
       "  <th>Df Model:</th>              <td>    13</td>      <th>                     </th>     <td> </td>    \n",
       "</tr>\n",
       "<tr>\n",
       "  <th>Covariance Type:</th>      <td>nonrobust</td>    <th>                     </th>     <td> </td>    \n",
       "</tr>\n",
       "</table>\n",
       "<table class=\"simpletable\">\n",
       "<tr>\n",
       "                  <td></td>                    <th>coef</th>     <th>std err</th>      <th>t</th>      <th>P>|t|</th>  <th>[0.025</th>    <th>0.975]</th>  \n",
       "</tr>\n",
       "<tr>\n",
       "  <th>const</th>                            <td>   -7.2776</td> <td>    3.605</td> <td>   -2.019</td> <td> 0.044</td> <td>  -14.350</td> <td>   -0.206</td>\n",
       "</tr>\n",
       "<tr>\n",
       "  <th>avg_block_size</th>                   <td>   89.1866</td> <td>   19.040</td> <td>    4.684</td> <td> 0.000</td> <td>   51.835</td> <td>  126.539</td>\n",
       "</tr>\n",
       "<tr>\n",
       "  <th>cost_per_transaction_percent</th>     <td>    0.0001</td> <td>    0.000</td> <td>    0.322</td> <td> 0.747</td> <td>   -0.001</td> <td>    0.001</td>\n",
       "</tr>\n",
       "<tr>\n",
       "  <th>cost_per_transaction</th>             <td>    3.9838</td> <td>    0.151</td> <td>   26.350</td> <td> 0.000</td> <td>    3.687</td> <td>    4.280</td>\n",
       "</tr>\n",
       "<tr>\n",
       "  <th>difficulty</th>                       <td> -2.86e-12</td> <td> 5.21e-12</td> <td>   -0.549</td> <td> 0.583</td> <td>-1.31e-11</td> <td> 7.37e-12</td>\n",
       "</tr>\n",
       "<tr>\n",
       "  <th>estimated_transaction_volume_usd</th> <td> 4.534e-08</td> <td> 6.64e-09</td> <td>    6.830</td> <td> 0.000</td> <td> 3.23e-08</td> <td> 5.84e-08</td>\n",
       "</tr>\n",
       "<tr>\n",
       "  <th>hash_rate</th>                        <td>-4.749e-06</td> <td> 6.98e-07</td> <td>   -6.806</td> <td> 0.000</td> <td>-6.12e-06</td> <td>-3.38e-06</td>\n",
       "</tr>\n",
       "<tr>\n",
       "  <th>market_cap</th>                       <td> 5.594e-08</td> <td> 2.08e-10</td> <td>  269.391</td> <td> 0.000</td> <td> 5.55e-08</td> <td> 5.63e-08</td>\n",
       "</tr>\n",
       "<tr>\n",
       "  <th>miners_revenue</th>                   <td> 6.743e-06</td> <td> 1.76e-06</td> <td>    3.821</td> <td> 0.000</td> <td> 3.28e-06</td> <td> 1.02e-05</td>\n",
       "</tr>\n",
       "<tr>\n",
       "  <th>n_transactions_excluding_popular</th> <td>    0.0001</td> <td>    0.000</td> <td>    1.068</td> <td> 0.286</td> <td>   -0.000</td> <td>    0.000</td>\n",
       "</tr>\n",
       "<tr>\n",
       "  <th>n_transactions</th>                   <td>   -0.0001</td> <td>    0.000</td> <td>   -0.894</td> <td> 0.372</td> <td>   -0.000</td> <td>    0.000</td>\n",
       "</tr>\n",
       "<tr>\n",
       "  <th>output_volume</th>                    <td>-1.774e-06</td> <td> 6.73e-07</td> <td>   -2.635</td> <td> 0.009</td> <td> -3.1e-06</td> <td>-4.53e-07</td>\n",
       "</tr>\n",
       "<tr>\n",
       "  <th>total_bitcoins</th>                   <td>-7.345e-07</td> <td> 6.09e-07</td> <td>   -1.206</td> <td> 0.228</td> <td>-1.93e-06</td> <td>  4.6e-07</td>\n",
       "</tr>\n",
       "<tr>\n",
       "  <th>transaction_fees</th>                 <td>    0.0251</td> <td>    0.023</td> <td>    1.072</td> <td> 0.284</td> <td>   -0.021</td> <td>    0.071</td>\n",
       "</tr>\n",
       "</table>\n",
       "<table class=\"simpletable\">\n",
       "<tr>\n",
       "  <th>Omnibus:</th>       <td>442.042</td> <th>  Durbin-Watson:     </th> <td>   0.595</td> \n",
       "</tr>\n",
       "<tr>\n",
       "  <th>Prob(Omnibus):</th> <td> 0.000</td>  <th>  Jarque-Bera (JB):  </th> <td>23901.828</td>\n",
       "</tr>\n",
       "<tr>\n",
       "  <th>Skew:</th>          <td> 0.739</td>  <th>  Prob(JB):          </th> <td>    0.00</td> \n",
       "</tr>\n",
       "<tr>\n",
       "  <th>Kurtosis:</th>      <td>23.794</td>  <th>  Cond. No.          </th> <td>4.37e+13</td> \n",
       "</tr>\n",
       "</table><br/><br/>Warnings:<br/>[1] Standard Errors assume that the covariance matrix of the errors is correctly specified.<br/>[2] The condition number is large, 4.37e+13. This might indicate that there are<br/>strong multicollinearity or other numerical problems."
      ],
      "text/plain": [
       "<class 'statsmodels.iolib.summary.Summary'>\n",
       "\"\"\"\n",
       "                            OLS Regression Results                            \n",
       "==============================================================================\n",
       "Dep. Variable:         market_price_2   R-squared:                       1.000\n",
       "Model:                            OLS   Adj. R-squared:                  1.000\n",
       "Method:                 Least Squares   F-statistic:                 5.008e+05\n",
       "Date:                Tue, 12 Nov 2019   Prob (F-statistic):               0.00\n",
       "Time:                        21:24:50   Log-Likelihood:                -6923.7\n",
       "No. Observations:                1320   AIC:                         1.388e+04\n",
       "Df Residuals:                    1306   BIC:                         1.395e+04\n",
       "Df Model:                          13                                         \n",
       "Covariance Type:            nonrobust                                         \n",
       "====================================================================================================\n",
       "                                       coef    std err          t      P>|t|      [0.025      0.975]\n",
       "----------------------------------------------------------------------------------------------------\n",
       "const                               -7.2776      3.605     -2.019      0.044     -14.350      -0.206\n",
       "avg_block_size                      89.1866     19.040      4.684      0.000      51.835     126.539\n",
       "cost_per_transaction_percent         0.0001      0.000      0.322      0.747      -0.001       0.001\n",
       "cost_per_transaction                 3.9838      0.151     26.350      0.000       3.687       4.280\n",
       "difficulty                        -2.86e-12   5.21e-12     -0.549      0.583   -1.31e-11    7.37e-12\n",
       "estimated_transaction_volume_usd  4.534e-08   6.64e-09      6.830      0.000    3.23e-08    5.84e-08\n",
       "hash_rate                        -4.749e-06   6.98e-07     -6.806      0.000   -6.12e-06   -3.38e-06\n",
       "market_cap                        5.594e-08   2.08e-10    269.391      0.000    5.55e-08    5.63e-08\n",
       "miners_revenue                    6.743e-06   1.76e-06      3.821      0.000    3.28e-06    1.02e-05\n",
       "n_transactions_excluding_popular     0.0001      0.000      1.068      0.286      -0.000       0.000\n",
       "n_transactions                      -0.0001      0.000     -0.894      0.372      -0.000       0.000\n",
       "output_volume                    -1.774e-06   6.73e-07     -2.635      0.009    -3.1e-06   -4.53e-07\n",
       "total_bitcoins                   -7.345e-07   6.09e-07     -1.206      0.228   -1.93e-06     4.6e-07\n",
       "transaction_fees                     0.0251      0.023      1.072      0.284      -0.021       0.071\n",
       "==============================================================================\n",
       "Omnibus:                      442.042   Durbin-Watson:                   0.595\n",
       "Prob(Omnibus):                  0.000   Jarque-Bera (JB):            23901.828\n",
       "Skew:                           0.739   Prob(JB):                         0.00\n",
       "Kurtosis:                      23.794   Cond. No.                     4.37e+13\n",
       "==============================================================================\n",
       "\n",
       "Warnings:\n",
       "[1] Standard Errors assume that the covariance matrix of the errors is correctly specified.\n",
       "[2] The condition number is large, 4.37e+13. This might indicate that there are\n",
       "strong multicollinearity or other numerical problems.\n",
       "\"\"\""
      ]
     },
     "execution_count": 12,
     "metadata": {},
     "output_type": "execute_result"
    }
   ],
   "source": [
    "def regress(X,Y):\n",
    "    X_cp = sm.add_constant(X)\n",
    "    model = sm.OLS(Y,X_cp)\n",
    "    results = model.fit()\n",
    "    return results\n",
    "Y = dfs['market_price_2']\n",
    "X = dfs[['avg_block_size',\n",
    " 'cost_per_transaction_percent',\n",
    " 'cost_per_transaction',\n",
    " 'difficulty',\n",
    " 'estimated_transaction_volume_usd',\n",
    " 'hash_rate',\n",
    " 'market_cap',\n",
    " 'miners_revenue',\n",
    " 'n_transactions_excluding_popular',\n",
    " 'n_transactions',\n",
    " 'output_volume',\n",
    " 'total_bitcoins',\n",
    " 'transaction_fees']]\n",
    "results = regress(X,Y)\n",
    "results.summary()"
   ]
  },
  {
   "cell_type": "code",
   "execution_count": null,
   "metadata": {},
   "outputs": [],
   "source": []
  },
  {
   "cell_type": "code",
   "execution_count": null,
   "metadata": {},
   "outputs": [],
   "source": []
  },
  {
   "cell_type": "code",
   "execution_count": null,
   "metadata": {},
   "outputs": [],
   "source": []
  }
 ],
 "metadata": {
  "kernelspec": {
   "display_name": "Python 3",
   "language": "python",
   "name": "python3"
  },
  "language_info": {
   "codemirror_mode": {
    "name": "ipython",
    "version": 3
   },
   "file_extension": ".py",
   "mimetype": "text/x-python",
   "name": "python",
   "nbconvert_exporter": "python",
   "pygments_lexer": "ipython3",
   "version": "3.7.4"
  }
 },
 "nbformat": 4,
 "nbformat_minor": 2
}
