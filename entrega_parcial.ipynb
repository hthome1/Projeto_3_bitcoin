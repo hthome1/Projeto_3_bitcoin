{
 "cells": [
  {
   "cell_type": "markdown",
   "metadata": {},
   "source": [
    "# Bitcoin Price Prediction"
   ]
  },
  {
   "cell_type": "markdown",
   "metadata": {},
   "source": [
    "### Introdução<br>\n",
    "\n",
    "#### O objetivo desse projeto e prever futuros valores para o Bitcoin seguindo principalmente os valores das seguintes variaveis de instantes anteriores. As quais foram escolhidas por possuirem uma alta correlacao com o \"market_price_2\", que é a nossa variavel de interesse<br>\n",
    "\n",
    "-cost_per_transaction_percent<br>\n",
    "-difficulty<br>\n",
    "-hash_rate<br>\n",
    "-market_cap<br>\n",
    "-estimated_transaction_volume_usd<br>\n"
   ]
  },
  {
   "cell_type": "code",
   "execution_count": null,
   "metadata": {},
   "outputs": [],
   "source": [
    "import numpy as np\n",
    "import pandas as pd\n",
    "import plotly.offline as py\n",
    "import plotly.graph_objs as go\n",
    "import plotly.figure_factory as ff\n",
    "import statsmodels.api as sm\n",
    "import matplotlib.pyplot as plt\n",
    "from sklearn import tree\n",
    "from sklearn.tree import DecisionTreeRegressor"
   ]
  },
  {
   "cell_type": "code",
   "execution_count": null,
   "metadata": {},
   "outputs": [],
   "source": [
    "dfs = pd.read_excel('DataFrame_bitcoin.xlsx')"
   ]
  },
  {
   "cell_type": "code",
   "execution_count": null,
   "metadata": {},
   "outputs": [],
   "source": [
    "dfs.head()"
   ]
  },
  {
   "cell_type": "markdown",
   "metadata": {},
   "source": [
    "### Análise exploratória"
   ]
  },
  {
   "cell_type": "code",
   "execution_count": null,
   "metadata": {},
   "outputs": [],
   "source": [
    "tabela_corr = dfs.corr()\n",
    "tabela_corr"
   ]
  },
  {
   "cell_type": "code",
   "execution_count": null,
   "metadata": {},
   "outputs": [],
   "source": [
    "def correlation_heatmap(df, title, absolute_bounds=True):\n",
    "    '''Plot a correlation heatmap for the entire dataframe'''\n",
    "    heatmap = go.Heatmap(\n",
    "        z=df.corr(method='pearson').values,\n",
    "        x=df.columns,\n",
    "        y=df.columns,\n",
    "        colorbar=dict(title='Pearson Coefficient'),\n",
    "    )\n",
    "    \n",
    "    layout = go.Layout(title=title)\n",
    "    \n",
    "    if absolute_bounds:\n",
    "        heatmap['zmax'] = 1.0\n",
    "        heatmap['zmin'] = -1.0\n",
    "        \n",
    "    fig = go.Figure(data=[heatmap], layout=layout)\n",
    "    py.iplot(fig)"
   ]
  },
  {
   "cell_type": "code",
   "execution_count": null,
   "metadata": {},
   "outputs": [],
   "source": [
    "correlation_heatmap(dfs, 'Correlação das variávies')"
   ]
  },
  {
   "cell_type": "markdown",
   "metadata": {},
   "source": [
    "### Como podemos ver as variáveis que apresentam a correlação mais forte com o market price (preço) são:  \n",
    "-Custo Por Transação Em Porcentagem  (miners revenue as percentage of the transaction volume.)<br>\n",
    "-Dificuldade  \n",
    "-Hash_rate<br>\n",
    "-Market_Cap<br>\n",
    "-Volumne Estimado Da Transacao<br>\n",
    "#### Agora vamos analisar mais a fundo essas relações"
   ]
  },
  {
   "cell_type": "code",
   "execution_count": null,
   "metadata": {},
   "outputs": [],
   "source": [
    "plt.scatter(dfs[\"market_price_2\"],dfs[\"cost_per_transaction_percent\"])\n",
    "plt.title('Preço x Custo percentual de transação')\n",
    "plt.xlabel('Preço')\n",
    "plt.ylabel('Custo percentual de transação')"
   ]
  },
  {
   "cell_type": "code",
   "execution_count": null,
   "metadata": {},
   "outputs": [],
   "source": [
    "plt.scatter(dfs[\"market_price_2\"],dfs[\"difficulty\"])\n",
    "plt.title('Preço x Dificulade')\n",
    "plt.xlabel('Preço')\n",
    "plt.ylabel('Dificuladade')"
   ]
  },
  {
   "cell_type": "code",
   "execution_count": null,
   "metadata": {},
   "outputs": [],
   "source": [
    "plt.scatter(dfs[\"market_price_2\"],dfs[\"hash_rate\"])\n",
    "plt.title('Preço x Hash Rate')\n",
    "plt.xlabel('Preço')\n",
    "plt.ylabel('Hash Rate')"
   ]
  },
  {
   "cell_type": "code",
   "execution_count": null,
   "metadata": {},
   "outputs": [],
   "source": [
    "plt.scatter(dfs[\"market_price_2\"],dfs[\"market_cap\"])\n",
    "plt.title('Preço x Market_Cap')\n",
    "plt.xlabel('Preço')\n",
    "plt.ylabel('Market_Cap')"
   ]
  },
  {
   "cell_type": "code",
   "execution_count": null,
   "metadata": {},
   "outputs": [],
   "source": [
    "plt.scatter(dfs[\"market_price_2\"],dfs[\"estimated_transaction_volume_usd\"])\n",
    "plt.title('Preço x Volumne Estimado Da Transacao')\n",
    "plt.xlabel('Preço')\n",
    "plt.ylabel('Volumne Estimado Da Transacao')"
   ]
  },
  {
   "cell_type": "code",
   "execution_count": null,
   "metadata": {},
   "outputs": [],
   "source": [
    "def regress(X,Y):\n",
    "    X_cp = sm.add_constant(X)\n",
    "    model = sm.OLS(Y,X_cp)\n",
    "    results = model.fit()\n",
    "    return results\n",
    "\n",
    "Y = dfs['market_price_2']\n",
    "X = dfs[[\n",
    " 'avg_block_size',\n",
    " 'cost_per_transaction_percent',\n",
    " 'cost_per_transaction',\n",
    " 'difficulty',\n",
    " 'estimated_transaction_volume_usd',\n",
    " 'hash_rate',\n",
    " 'market_cap',\n",
    " 'miners_revenue',\n",
    " 'n_transactions_excluding_popular',\n",
    " 'n_transactions',\n",
    " 'output_volume',\n",
    " 'total_bitcoins',\n",
    " 'transaction_fees'\n",
    "]]\n",
    "#values come from day before\n",
    "print(X.shape)"
   ]
  },
  {
   "cell_type": "code",
   "execution_count": null,
   "metadata": {},
   "outputs": [],
   "source": [
    "results.summary()"
   ]
  },
  {
   "cell_type": "code",
   "execution_count": null,
   "metadata": {
    "scrolled": true
   },
   "outputs": [],
   "source": [
    "n = len(Y)\n",
    "lista = []\n",
    "dias = []\n",
    "for i in range(200):\n",
    "    Y_offset = Y.values[i:]\n",
    "    X_offset = X.values[:(n-i),:]\n",
    "    results = regress(X_offset,Y_offset)\n",
    "    lista.append(results)\n",
    "    dias.append(i)\n",
    "    print(i, results.rsquared)"
   ]
  },
  {
   "cell_type": "markdown",
   "metadata": {},
   "source": [
    "Decidimos fazer a analise usando 10 períodos anteriores, uma vez que analisando até 200 períodos esse foi com maior precisão, ainda sim usando dados anteriores"
   ]
  },
  {
   "cell_type": "code",
   "execution_count": null,
   "metadata": {},
   "outputs": [],
   "source": [
    "for i in range(200):\n",
    "    if i == 10:\n",
    "        Y_offset1 = Y.values[i:]\n",
    "        X_offset1 = X.values[:(n-i),:]\n",
    "        results1 = regress(X_offset1,Y_offset1)\n",
    "results1.summary()"
   ]
  },
  {
   "cell_type": "markdown",
   "metadata": {},
   "source": [
    "Como podemos analisar no resultado da regressão tivemos algumas variáveis com um  valor p muito alto. Agora vamos retirar essas variáveis para ver se conseguimos aumentar a precisão"
   ]
  },
  {
   "cell_type": "code",
   "execution_count": null,
   "metadata": {},
   "outputs": [],
   "source": [
    "X1 = dfs[[\n",
    " 'avg_block_size',\n",
    " 'cost_per_transaction',\n",
    " 'difficulty',\n",
    " 'estimated_transaction_volume_usd',\n",
    " 'hash_rate',\n",
    " 'market_cap',\n",
    " 'miners_revenue',\n",
    " 'n_transactions',\n",
    " 'transaction_fees'\n",
    "]]"
   ]
  },
  {
   "cell_type": "code",
   "execution_count": null,
   "metadata": {},
   "outputs": [],
   "source": [
    "for i in range(200):\n",
    "    if i == 10:\n",
    "        Y_offset2 = Y.values[i:]\n",
    "        X_offset2 = X1.values[:(n-i),:]\n",
    "        results2 = regress(X_offset2,Y_offset2)\n",
    "results2.summary()"
   ]
  },
  {
   "cell_type": "markdown",
   "metadata": {},
   "source": [
    "Ao tirar as variáveis é possível perceber que não houve melhora na performace do código"
   ]
  },
  {
   "cell_type": "code",
   "execution_count": null,
   "metadata": {},
   "outputs": [],
   "source": [
    "#Decision Tree Regressor\n",
    "Arvore = DecisionTreeRegressor(random_state = 1)\n",
    "Arvore.fit(X, Y)\n",
    "plt.scatter(Y, Arvore.predict(X), color = 'green')\n",
    "plt.show()"
   ]
  },
  {
   "cell_type": "code",
   "execution_count": null,
   "metadata": {},
   "outputs": [],
   "source": []
  }
 ],
 "metadata": {
  "kernelspec": {
   "display_name": "Python 3",
   "language": "python",
   "name": "python3"
  },
  "language_info": {
   "codemirror_mode": {
    "name": "ipython",
    "version": 3
   },
   "file_extension": ".py",
   "mimetype": "text/x-python",
   "name": "python",
   "nbconvert_exporter": "python",
   "pygments_lexer": "ipython3",
   "version": "3.7.3"
  }
 },
 "nbformat": 4,
 "nbformat_minor": 2
}
